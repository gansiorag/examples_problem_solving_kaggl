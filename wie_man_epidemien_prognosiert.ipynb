{
 "cells": [
  {
   "cell_type": "markdown",
   "metadata": {},
   "source": [
    "Официальное название:\n",
    "\n",
    "## Компартментные модели динамики эпидемий\n",
    "\n",
    "*Автор: Ян Пиле, Mail.ru group, НИУ ВШЭ*"
   ]
  },
  {
   "cell_type": "markdown",
   "metadata": {},
   "source": [
    "Неофициальное название:"
   ]
  },
  {
   "cell_type": "markdown",
   "metadata": {},
   "source": [
    "# Как с помощью элементарной логики и небольшого количества математики попытаться спрогнозировать динамику эпидемии инфекционного заболевания.\n"
   ]
  },
  {
   "cell_type": "markdown",
   "metadata": {},
   "source": [
    "## или"
   ]
  },
  {
   "cell_type": "markdown",
   "metadata": {},
   "source": [
    "# Wie man mit dem Hammer Epidemien prognosiert[(c)](https://ru.wikipedia.org/wiki/Сумерки_идолов)\n",
    "\n",
    "<br><img src='https://stroybrusok.ru/image/cache/catalog/catalog/molotok_gvozdodyor-800x800.png' width = \"400\"> \n"
   ]
  },
  {
   "cell_type": "markdown",
   "metadata": {},
   "source": [
    "## или "
   ]
  },
  {
   "cell_type": "markdown",
   "metadata": {},
   "source": [
    "# SIR, yes SIR.\n",
    "<br>\n",
    "<br><img src='https://www.meme-arsenal.com/memes/9dbf06998cc661a5ad97abac4800d49d.jpg'  width = \"800\"> \n"
   ]
  },
  {
   "cell_type": "markdown",
   "metadata": {},
   "source": [
    "## Переводы шуток: SIR == Susceptible, Infected, Recovered"
   ]
  },
  {
   "cell_type": "markdown",
   "metadata": {},
   "source": [
    "Думаю, события последнего года всех убедили в том, что моделирование эпидемий – необходимость. Проблема в том, что для многих сфера эпидемиологии не является очень близкой и порой просто непонятно, как к ней подступиться.\n",
    "\n",
    "Сегодня мы попробуем организовать введение в тему моделирования инфекционных заболеваний. Мы последовательно проработаем модель SIR, выведем ее уравнения и сделаем имплементацию на языке Python. Далее попробуем дополнить нашу модель и подогнать ее под данные о всем нам (В 2020 году) известном вирусе SARS-CoV-2."
   ]
  },
  {
   "cell_type": "markdown",
   "metadata": {},
   "source": [
    "<img src=\"http://upload.wikimedia.org/wikipedia/commons/thumb/a/a2/GeorgeEPBox.jpg/200px-GeorgeEPBox.jpg\"> Известный статистик Джордж Бокс сказал:\n",
    "\n",
    "*Все модели неверны, но некоторые полезны.*"
   ]
  },
  {
   "cell_type": "markdown",
   "metadata": {},
   "source": [
    "Мы собираемся моделировать инфекционные заболевания. Подразумевается, что такие заболевания могут распространятся от одного человека к другому. Попытаемся понять, насколько быстро они распространяются, какую часть популяции заражают, какая доля умирает и т.д. Один из самых простых способов их моделирования (и то, на чем мы здесь сосредоточены) - это использование компартментной модели. "
   ]
  },
  {
   "cell_type": "markdown",
   "metadata": {},
   "source": [
    "Компартментная модель разделяет популяцию на несколько частей, например:\n",
    "\n",
    "$S – (Susceptible)$ – Восприимчивые (все еще могут быть инфицированы, но на данный момент здоровы)\n",
    "\n",
    "$I – (Infected)$ – Зараженные\n",
    "\n",
    "$R – (Recovered)$ – Вылечившиеся (уже были заражены, снова заразиться не могут)"
   ]
  },
  {
   "cell_type": "markdown",
   "metadata": {},
   "source": [
    "Представим, что у нас есть население размера N = 1000 (1000 человек), и мы знаем, что 400 человек из них инфицированы в момент времени t (например, t = 7 дней после вспышки болезни). Это обозначается $S(7) = 400$. Модель $SIR$ позволяет нам, только путем ввода некоторых начальных параметров, получить все значения $S(t)$, $I(t)$, $R(t)$ для всех дней $t$. \n",
    "\n",
    "Приведем пример:\n",
    "У нас есть новое заболевание, болезнь X. Для этого заболевания вероятность инфицированного человека заразить здорового составляет 20%. Среднее количество людей, с которыми человек контактирует в день, составляет 5. Таким образом, за день инфицированный встречается с 5 людьми и заражает каждого с вероятностью 20%. Таким образом, мы ожидаем, что этот человек заразит 1 человека (20% ⋅ 5 = 1) в день. Это $\\beta$ («бета»), ожидаемое количество людей, инфицированных инфицированным в день."
   ]
  },
  {
   "cell_type": "markdown",
   "metadata": {},
   "source": [
    "Теперь видно, что количество дней, в течение которых инфицированный человек может распространять болезнь, крайне важно. Назовем это число $D$. Если $D = 7$, инфицированный человек ходит целую неделю, распространяя болезнь, и заражает 1 человека в день (поскольку $\\beta = 1$). Таким образом, мы ожидаем, что инфицированный человек заразит 1-7 человек (1 раз в день по 7 дней) = 7 других людей. Это базовое репродуктивное число $\\rho$, общее количество людей, зараженных одним инфицированным. Мы просто использовали интуитивную формулу: $\\rho_0 = \\beta D$.\n",
    "На самом деле, нам больше ничего не нужно, только одно маленькое обозначение: $\\gamma = \\frac1{D}$, поэтому, если вы думаете о D как о количестве дней, в течение которых инфицированный человек болеет, вы можете думать о γ как скорость выздоровления или доля инфицированных, выздоравливающих за день. Например, если в настоящее время инфицировано 30 человек и D = 3 (значит, они инфицированы в течение трех дней), то в день 1/3 (то есть 10) из них выздоравливают, поэтому $\\gamma = \\frac1{3}$. Поскольку $\\gamma = \\frac1{D}$, подставляя в $\\rho_0 = \\beta D$, имеем  $\\rho_0= \\frac\\beta{\\gamma}$ ."
   ]
  },
  {
   "cell_type": "markdown",
   "metadata": {},
   "source": [
    "## SIR модель\n",
    "\n",
    "Модель, про которую мы будем говорить, выглядит так:\n",
    "<br><img src='https://www.researchgate.net/profile/Simon_Dodds2/publication/342709327/figure/fig1/AS:910267508609025@1594036094222/The-set-of-three-differential-equations-that-describe-the-SIR-model-Wikipedia.ppm'  width = \"200\"> \n",
    "\n",
    "Если быть совсем буквоедом, то рассматриваемое у нас время дискретно и поэтому по факту система выглядит так:\n",
    "<br><img src='https://i.stack.imgur.com/XHFdg.jpg'  width = \"350\"> "
   ]
  },
  {
   "cell_type": "code",
   "execution_count": 116,
   "metadata": {},
   "outputs": [],
   "source": [
    "from scipy.integrate import odeint\n",
    "import numpy as np\n",
    "import matplotlib.pyplot as plt\n",
    "%matplotlib inline \n",
    "import lmfit\n",
    "from lmfit.lineshapes import gaussian, lorentzian\n",
    "import pandas as pd\n",
    "import warnings\n",
    "warnings.filterwarnings('ignore')"
   ]
  },
  {
   "cell_type": "code",
   "execution_count": 117,
   "metadata": {},
   "outputs": [],
   "source": [
    "def deriv(y, t, N, beta, gamma):\n",
    "    S, I, R = y\n",
    "    dSdt = -beta * S * I / N\n",
    "    dIdt = beta * S * I / N - gamma * I\n",
    "    dRdt = gamma * I\n",
    "    return dSdt, dIdt, dRdt"
   ]
  },
  {
   "cell_type": "code",
   "execution_count": 81,
   "metadata": {},
   "outputs": [],
   "source": [
    "N = 1000\n",
    "beta = 1.0  # Инфицированный заражает по одному человеку в день\n",
    "D = 4.0 # Заболевание длится 4 дня\n",
    "gamma = 1.0 / D\n",
    "\n",
    "S0, I0, R0 = 999, 1, 0  # Начальные условия: Один зараженный, оставшиеся – восприимчивые"
   ]
  },
  {
   "cell_type": "code",
   "execution_count": 118,
   "metadata": {},
   "outputs": [],
   "source": [
    "t = np.linspace(0, 49, 50) # Сетка по времени (в днях)\n",
    "y0 = S0, I0, R0 # Вектор начальных условий\n",
    "\n",
    "# Интегрируем уравнения SIR по временной сетке t.\n",
    "ret = odeint(deriv, y0, t, args=(N, beta, gamma))\n",
    "S, I, R = ret.T"
   ]
  },
  {
   "cell_type": "code",
   "execution_count": 119,
   "metadata": {},
   "outputs": [],
   "source": [
    "def sirplot(t, S, I, R):\n",
    "    f, ax = plt.subplots(1,1,figsize=(10,4))\n",
    "    ax.plot(t, S, c = 'b', alpha=0.7, linewidth=2, label='Susceptible')\n",
    "    ax.plot(t, I, c = 'red', alpha=0.7, linewidth=2, label='Infected')\n",
    "    ax.plot(t, R, c = 'green', alpha=0.7, linewidth=2, label='Recovered')\n",
    "\n",
    "    ax.set_xlabel('Время (дни)')\n",
    "\n",
    "    ax.yaxis.set_tick_params(length=0)\n",
    "    ax.xaxis.set_tick_params(length=0)\n",
    "    ax.grid(b=True, which='major', c='w', lw=2, ls='-')\n",
    "    legend = ax.legend()\n",
    "    legend.get_frame().set_alpha(0.5)\n",
    "    for spine in ('top', 'right', 'bottom', 'left'):\n",
    "        ax.spines[spine].set_visible(False)\n",
    "    plt.show();"
   ]
  },
  {
   "cell_type": "code",
   "execution_count": 120,
   "metadata": {},
   "outputs": [
    {
     "data": {
      "image/png": "[encoded data removed]",
      "text/plain": [
       "<Figure size 720x288 with 1 Axes>"
      ]
     },
     "metadata": {
      "needs_background": "light"
     },
     "output_type": "display_data"
    }
   ],
   "source": [
    "sirplot(t, S, I, R)"
   ]
  },
  {
   "cell_type": "code",
   "execution_count": 123,
   "metadata": {},
   "outputs": [
    {
     "data": {
      "text/plain": [
       "array([0.00000000e+00, 3.72033735e-01, 1.15746227e+00, 2.80997494e+00,\n",
       "       6.26204685e+00, 1.33682013e+01, 2.75741480e+01, 5.44527307e+01,\n",
       "       1.00783625e+02, 1.70596945e+02, 2.60453148e+02, 3.60197173e+02,\n",
       "       4.58933005e+02, 5.49367203e+02, 6.28216857e+02, 6.94885922e+02,\n",
       "       7.50172521e+02, 7.95446657e+02, 8.32211260e+02, 8.61893724e+02,\n",
       "       8.85760831e+02, 9.04895590e+02, 9.20203236e+02, 9.32429517e+02,\n",
       "       9.42182828e+02, 9.49956151e+02, 9.56147018e+02, 9.61074855e+02,\n",
       "       9.64995651e+02, 9.68114156e+02, 9.70593885e+02, 9.72565272e+02,\n",
       "       9.74132272e+02, 9.75377675e+02, 9.76367382e+02, 9.77153827e+02,\n",
       "       9.77778715e+02, 9.78275210e+02, 9.78669676e+02, 9.78983070e+02,\n",
       "       9.79232048e+02, 9.79429846e+02, 9.79586983e+02, 9.79711815e+02,\n",
       "       9.79810982e+02, 9.79889762e+02, 9.79952344e+02, 9.80002059e+02,\n",
       "       9.80041552e+02, 9.80072925e+02])"
      ]
     },
     "execution_count": 123,
     "metadata": {},
     "output_type": "execute_result"
    }
   ],
   "source": [
    "R"
   ]
  },
  {
   "cell_type": "markdown",
   "metadata": {},
   "source": [
    "По сути, получается, что наши люди прошли через следующую цепочку:\n",
    "\n",
    "<img src=\"https://media.springernature.com/lw685/springer-static/image/art%3A10.1038%2Fsrep46076/MediaObjects/41598_2017_Article_BFsrep46076_Fig1_HTML.jpg\"> \n",
    "\n",
    "Группы *S*, *I* и *R* называют **компартментами**, а модели, использующие подобное разбиение на группы, соответственно, **компартментными**."
   ]
  },
  {
   "cell_type": "markdown",
   "metadata": {},
   "source": [
    "## Коротко о том, как можно \"Подгонять\" функции\n",
    "\n",
    "Возьмем функцию Гаусса (как нормальное распределение, только не обязательно нормированная) и добавим к ней случайный шум со средним 0 и амплитудой до 0.1. "
   ]
  },
  {
   "cell_type": "code",
   "execution_count": 124,
   "metadata": {},
   "outputs": [
    {
     "data": {
      "image/png": "[encoded data removed]",
      "text/plain": [
       "<Figure size 432x288 with 1 Axes>"
      ]
     },
     "metadata": {
      "needs_background": "light"
     },
     "output_type": "display_data"
    }
   ],
   "source": [
    "np.random.seed(42)\n",
    "x = np.linspace(0, 20.0, 1001)\n",
    "\n",
    "data = (gaussian(x, 21, 6.1, 1.2) + np.random.normal(scale=0.1, size=x.size))  # normal distr. with some noise\n",
    "plt.plot(x, data);"
   ]
  },
  {
   "cell_type": "code",
   "execution_count": 126,
   "metadata": {},
   "outputs": [],
   "source": [
    "def f(x, a, b, c):\n",
    "    return gaussian(x, a, b, c)"
   ]
  },
  {
   "cell_type": "markdown",
   "metadata": {},
   "source": [
    "Библиотека lmfit с помощью указанного метода оптимизации попытается подобрать вам такие значения параметров, чтобы точность была максимальной. Например ниже использован метод наименьших квадратов."
   ]
  },
  {
   "cell_type": "code",
   "execution_count": 127,
   "metadata": {},
   "outputs": [],
   "source": [
    "mod = lmfit.Model(f)\n",
    "# Устанавливаем начальные значения параметров (с которых стартует оптимизация)\n",
    "mod.set_param_hint(\"a\", value=10.0, vary=True)\n",
    "mod.set_param_hint(\"b\", value=10.0, vary=True)\n",
    "mod.set_param_hint(\"c\", value=10.0, vary=True)\n",
    "\n",
    "params = mod.make_params()"
   ]
  },
  {
   "cell_type": "code",
   "execution_count": 128,
   "metadata": {},
   "outputs": [],
   "source": [
    "result = mod.fit(data, params, method=\"leastsq\", x=x)  # fitting"
   ]
  },
  {
   "cell_type": "markdown",
   "metadata": {},
   "source": [
    "На выходе получаем такую функцию. Как видите, параметры мы почти угадали. Но надо понимать, что тут целевую функцию мы знали заранее."
   ]
  },
  {
   "cell_type": "code",
   "execution_count": 129,
   "metadata": {},
   "outputs": [
    {
     "data": {
      "text/plain": [
       "{'a': 21.03260705312548, 'b': 6.100343154231026, 'c': 1.2009255088579456}"
      ]
     },
     "execution_count": 129,
     "metadata": {},
     "output_type": "execute_result"
    },
    {
     "data": {
      "image/png": "[encoded data removed]",
      "text/plain": [
       "<Figure size 576x288 with 1 Axes>"
      ]
     },
     "metadata": {
      "needs_background": "light"
     },
     "output_type": "display_data"
    }
   ],
   "source": [
    "plt.figure(figsize=(8,4))\n",
    "result.plot_fit(datafmt=\"-\");\n",
    "result.best_values"
   ]
  },
  {
   "cell_type": "code",
   "execution_count": 67,
   "metadata": {},
   "outputs": [
    {
     "data": {
      "text/html": [
       "<h2> Model</h2> Model(f) <h2>Fit Statistics</h2><table><tr><td>fitting method</td><td>leastsq</td><td></td></tr><tr><td># function evals</td><td>30</td><td></td></tr><tr><td># data points</td><td>1001</td><td></td></tr><tr><td># variables</td><td>3</td><td></td></tr><tr><td>chi-square</td><td> 9.59355631</td><td></td></tr><tr><td>reduced chi-square</td><td> 0.00961278</td><td></td></tr><tr><td>Akaike info crit.</td><td>-4646.31079</td><td></td></tr><tr><td>Bayesian info crit.</td><td>-4631.58452</td><td></td></tr></table><h2>Variables</h2><table><tr><th> name </th><th> value </th><th> standard error </th><th> relative error </th><th> initial value </th><th> min </th><th> max </th><th> vary </th></tr><tr><td> a </td><td>  21.0326071 </td><td>  0.03503852 </td><td> (0.17%) </td><td> 10.0 </td><td>        -inf </td><td>         inf </td><td> True </td></tr><tr><td> b </td><td>  6.10034315 </td><td>  0.00231014 </td><td> (0.04%) </td><td> 10.0 </td><td>        -inf </td><td>         inf </td><td> True </td></tr><tr><td> c </td><td>  1.20092551 </td><td>  0.00231014 </td><td> (0.19%) </td><td> 10.0 </td><td>        -inf </td><td>         inf </td><td> True </td></tr></table><h2>Correlations (unreported correlations are < 0.100)</h2><table><tr><td>a</td><td>c</td><td>0.5774</td></tr></table>"
      ],
      "text/plain": [
       "<lmfit.model.ModelResult at 0x7fef9fa1c490>"
      ]
     },
     "execution_count": 67,
     "metadata": {},
     "output_type": "execute_result"
    }
   ],
   "source": [
    "result"
   ]
  },
  {
   "cell_type": "markdown",
   "metadata": {},
   "source": [
    "## Усложним нашу модель SIR:\n",
    "\n",
    "## SIR -> SEICRD"
   ]
  },
  {
   "cell_type": "markdown",
   "metadata": {},
   "source": [
    "Заметим, что переходы между компартментами описываются довольно простой формулой:"
   ]
  },
  {
   "cell_type": "markdown",
   "metadata": {},
   "source": [
    "<img src=\"rate_prob_pop.png\"> "
   ]
  },
  {
   "cell_type": "markdown",
   "metadata": {},
   "source": [
    "Мы добавили три компартмента:\n",
    "\n",
    "    * Exposed - носители вируса на периоде инкубации\n",
    "    * Critical – Люди, помещенные в больничные палаты\n",
    "    * Dead – не требует объяснения\n"
   ]
  },
  {
   "cell_type": "markdown",
   "metadata": {},
   "source": [
    "<img src=\"SEIRCD.png\"> "
   ]
  },
  {
   "cell_type": "markdown",
   "metadata": {},
   "source": [
    "Итоговые уравнения тогда будут иметь вид:"
   ]
  },
  {
   "cell_type": "markdown",
   "metadata": {},
   "source": [
    "<img src=\"equations final.png\"> "
   ]
  },
  {
   "cell_type": "code",
   "execution_count": 130,
   "metadata": {},
   "outputs": [],
   "source": [
    "# Считываем данные\n",
    "beds = pd.read_csv(\"https://raw.githubusercontent.com/hf2000510/infectious_disease_modelling/master/data/beds.csv\", header=0)\n",
    "agegroups = pd.read_csv(\"https://raw.githubusercontent.com/hf2000510/infectious_disease_modelling/master/data/agegroups.csv\")\n",
    "probabilities = pd.read_csv(\"https://raw.githubusercontent.com/hf2000510/infectious_disease_modelling/master/data/probabilities.csv\")\n",
    "covid_data = pd.read_csv(\"https://tinyurl.com/t59cgxn\", parse_dates=[\"Date\"], skiprows=[1])\n",
    "covid_data[\"Location\"] = covid_data[\"Country/Region\"]\n",
    "\n",
    "# Словари, чтоб доставать данные побыстрее\n",
    "\n",
    "# 1. Кол-во больничных коек на 100000 человек\n",
    "beds_lookup = dict(zip(beds[\"Country\"], beds[\"ICU_Beds\"]))\n",
    "\n",
    "# 2. возрастные группы\n",
    "agegroup_lookup = dict(zip(agegroups['Location'], agegroups[['0_9', '10_19', '20_29', '30_39', '40_49', '50_59', '60_69', '70_79', '80_89', '90_100']].values))\n",
    "\n",
    "# вероятности\n",
    "# prob_I_to_C_1 = list(probabilities.prob_I_to_ICU_1.values)\n",
    "# prob_I_to_C_2 = list(probabilities.prob_I_to_ICU_2.values)\n",
    "# prob_C_to_Death_1 = list(probabilities.prob_ICU_to_Death_1.values)\n",
    "# prob_C_to_Death_2 = list(probabilities.prob_ICU_to_Death_2.values)"
   ]
  },
  {
   "cell_type": "code",
   "execution_count": 115,
   "metadata": {},
   "outputs": [
    {
     "data": {
      "text/html": [
       "<div>\n",
       "<style scoped>\n",
       "    .dataframe tbody tr th:only-of-type {\n",
       "        vertical-align: middle;\n",
       "    }\n",
       "\n",
       "    .dataframe tbody tr th {\n",
       "        vertical-align: top;\n",
       "    }\n",
       "\n",
       "    .dataframe thead th {\n",
       "        text-align: right;\n",
       "    }\n",
       "</style>\n",
       "<table border=\"1\" class=\"dataframe\">\n",
       "  <thead>\n",
       "    <tr style=\"text-align: right;\">\n",
       "      <th></th>\n",
       "      <th>Age</th>\n",
       "      <th>prob_I_to_ICU_1</th>\n",
       "      <th>prob_ICU_to_Death_1</th>\n",
       "      <th>prob_I_to_ICU_2</th>\n",
       "      <th>prob_ICU_to_Death_2</th>\n",
       "    </tr>\n",
       "  </thead>\n",
       "  <tbody>\n",
       "    <tr>\n",
       "      <th>0</th>\n",
       "      <td>0_9</td>\n",
       "      <td>0.001</td>\n",
       "      <td>0.00</td>\n",
       "      <td>0.00100</td>\n",
       "      <td>0.000</td>\n",
       "    </tr>\n",
       "    <tr>\n",
       "      <th>1</th>\n",
       "      <td>10_19</td>\n",
       "      <td>0.003</td>\n",
       "      <td>0.00</td>\n",
       "      <td>0.00300</td>\n",
       "      <td>0.000</td>\n",
       "    </tr>\n",
       "    <tr>\n",
       "      <th>2</th>\n",
       "      <td>20_29</td>\n",
       "      <td>0.009</td>\n",
       "      <td>0.05</td>\n",
       "      <td>0.00600</td>\n",
       "      <td>0.000</td>\n",
       "    </tr>\n",
       "    <tr>\n",
       "      <th>3</th>\n",
       "      <td>30_39</td>\n",
       "      <td>0.025</td>\n",
       "      <td>0.06</td>\n",
       "      <td>0.00900</td>\n",
       "      <td>0.000</td>\n",
       "    </tr>\n",
       "    <tr>\n",
       "      <th>4</th>\n",
       "      <td>40_49</td>\n",
       "      <td>0.030</td>\n",
       "      <td>0.10</td>\n",
       "      <td>0.02500</td>\n",
       "      <td>0.120</td>\n",
       "    </tr>\n",
       "    <tr>\n",
       "      <th>5</th>\n",
       "      <td>50_59</td>\n",
       "      <td>0.050</td>\n",
       "      <td>0.26</td>\n",
       "      <td>0.03560</td>\n",
       "      <td>0.365</td>\n",
       "    </tr>\n",
       "    <tr>\n",
       "      <th>6</th>\n",
       "      <td>60_69</td>\n",
       "      <td>0.070</td>\n",
       "      <td>0.57</td>\n",
       "      <td>0.05926</td>\n",
       "      <td>0.675</td>\n",
       "    </tr>\n",
       "    <tr>\n",
       "      <th>7</th>\n",
       "      <td>70_79</td>\n",
       "      <td>0.100</td>\n",
       "      <td>0.86</td>\n",
       "      <td>0.10100</td>\n",
       "      <td>0.850</td>\n",
       "    </tr>\n",
       "    <tr>\n",
       "      <th>8</th>\n",
       "      <td>80_89</td>\n",
       "      <td>0.140</td>\n",
       "      <td>0.95</td>\n",
       "      <td>0.14100</td>\n",
       "      <td>0.950</td>\n",
       "    </tr>\n",
       "    <tr>\n",
       "      <th>9</th>\n",
       "      <td>90_100</td>\n",
       "      <td>0.160</td>\n",
       "      <td>0.98</td>\n",
       "      <td>0.16000</td>\n",
       "      <td>0.990</td>\n",
       "    </tr>\n",
       "  </tbody>\n",
       "</table>\n",
       "</div>"
      ],
      "text/plain": [
       "      Age  prob_I_to_ICU_1  prob_ICU_to_Death_1  prob_I_to_ICU_2  \\\n",
       "0     0_9            0.001                 0.00          0.00100   \n",
       "1   10_19            0.003                 0.00          0.00300   \n",
       "2   20_29            0.009                 0.05          0.00600   \n",
       "3   30_39            0.025                 0.06          0.00900   \n",
       "4   40_49            0.030                 0.10          0.02500   \n",
       "5   50_59            0.050                 0.26          0.03560   \n",
       "6   60_69            0.070                 0.57          0.05926   \n",
       "7   70_79            0.100                 0.86          0.10100   \n",
       "8   80_89            0.140                 0.95          0.14100   \n",
       "9  90_100            0.160                 0.98          0.16000   \n",
       "\n",
       "   prob_ICU_to_Death_2  \n",
       "0                0.000  \n",
       "1                0.000  \n",
       "2                0.000  \n",
       "3                0.000  \n",
       "4                0.120  \n",
       "5                0.365  \n",
       "6                0.675  \n",
       "7                0.850  \n",
       "8                0.950  \n",
       "9                0.990  "
      ]
     },
     "execution_count": 115,
     "metadata": {},
     "output_type": "execute_result"
    }
   ],
   "source": [
    "probabilities"
   ]
  },
  {
   "cell_type": "code",
   "execution_count": 131,
   "metadata": {},
   "outputs": [
    {
     "data": {
      "image/png": "[encoded data removed]",
      "text/plain": [
       "<Figure size 720x432 with 1 Axes>"
      ]
     },
     "metadata": {
      "needs_background": "light"
     },
     "output_type": "display_data"
    }
   ],
   "source": [
    "covid_data[covid_data['Location']=='Italy'].groupby(\"Date\").sum()[[\"Value\"]].plot(figsize=(10, 6), \n",
    "                                                 title=\"Кол-во смертей от Covid-19 в Италии\");"
   ]
  },
  {
   "cell_type": "code",
   "execution_count": null,
   "metadata": {},
   "outputs": [],
   "source": []
  },
  {
   "cell_type": "code",
   "execution_count": 140,
   "metadata": {},
   "outputs": [
    {
     "data": {
      "text/plain": [
       "<Figure size 432x288 with 0 Axes>"
      ]
     },
     "metadata": {},
     "output_type": "display_data"
    }
   ],
   "source": [
    "plt.gcf().subplots_adjust(bottom=0.15)\n",
    "\n",
    "def plotter(t, S, E, I, C, R, D, R_0, B, S_1=None, S_2=None, x_ticks=None):\n",
    "    if S_1 is not None and S_2 is not None:\n",
    "        print(f\"Доля попадающих в больницы: {S_1*100}; Доля умирающих в больницах: {S_2 * 100}\")\n",
    "\n",
    "\n",
    "    f, ax = plt.subplots(1,1,figsize=(20,4))\n",
    "    if x_ticks is None:\n",
    "        ax.plot(t, S, 'b', alpha=0.7, linewidth=2, label='Susceptible')\n",
    "        ax.plot(t, E, 'y', alpha=0.7, linewidth=2, label='Exposed')\n",
    "        ax.plot(t, I, 'r', alpha=0.7, linewidth=2, label='Infected')\n",
    "        ax.plot(t, C, 'r--', alpha=0.7, linewidth=2, label='Critical')\n",
    "        ax.plot(t, R, 'g', alpha=0.7, linewidth=2, label='Recovered')\n",
    "        ax.plot(t, D, 'k', alpha=0.7, linewidth=2, label='Dead')\n",
    "    else:\n",
    "        ax.plot(x_ticks, S, 'b', alpha=0.7, linewidth=2, label='Susceptible')\n",
    "        ax.plot(x_ticks, E, 'y', alpha=0.7, linewidth=2, label='Exposed')\n",
    "        ax.plot(x_ticks, I, 'r', alpha=0.7, linewidth=2, label='Infected')\n",
    "        ax.plot(x_ticks, C, 'r--', alpha=0.7, linewidth=2, label='Critical')\n",
    "        ax.plot(x_ticks, R, 'g', alpha=0.7, linewidth=2, label='Recovered')\n",
    "        ax.plot(x_ticks, D, 'k', alpha=0.7, linewidth=2, label='Dead')\n",
    "\n",
    "        ax.xaxis.set_major_locator(mdates.YearLocator())\n",
    "        ax.xaxis.set_major_formatter(mdates.DateFormatter('%Y-%m-%d'))\n",
    "        ax.xaxis.set_minor_locator(mdates.MonthLocator())\n",
    "        f.autofmt_xdate()\n",
    "\n",
    "\n",
    "    ax.title.set_text('Расширенная модель SEIR')\n",
    "\n",
    "    ax.grid(b=True, which='major', c='w', lw=2, ls='-')\n",
    "    legend = ax.legend()\n",
    "    legend.get_frame().set_alpha(0.5)\n",
    "    for spine in ('top', 'right', 'bottom', 'left'):\n",
    "        ax.spines[spine].set_visible(False)\n",
    "\n",
    "    plt.show();\n",
    "    \n",
    "    f = plt.figure(figsize=(20,4))\n",
    "    \n",
    "    # sp1\n",
    "    ax1 = f.add_subplot(131)\n",
    "    if x_ticks is None:\n",
    "        ax1.plot(t, R_0, 'b--', alpha=0.7, linewidth=2, label='R_0')\n",
    "    else:\n",
    "        ax1.plot(x_ticks, R_0, 'b--', alpha=0.7, linewidth=2, label='R_0')\n",
    "        ax1.xaxis.set_major_locator(mdates.YearLocator())\n",
    "        ax1.xaxis.set_major_formatter(mdates.DateFormatter('%Y-%m-%d'))\n",
    "        ax1.xaxis.set_minor_locator(mdates.MonthLocator())\n",
    "        f.autofmt_xdate()\n",
    "\n",
    " \n",
    "    ax1.title.set_text('R_0 от времени')\n",
    "    ax1.grid(b=True, which='major', c='w', lw=2, ls='-')\n",
    "    legend = ax1.legend()\n",
    "    legend.get_frame().set_alpha(0.5)\n",
    "    for spine in ('top', 'right', 'bottom', 'left'):\n",
    "        ax.spines[spine].set_visible(False)\n",
    "    \n",
    "    # sp2\n",
    "    ax2 = f.add_subplot(132)\n",
    "    total_CFR = [0] + [100 * D[i] / sum(sigma*E[:i]) if sum(sigma*E[:i])>0 else 0 for i in range(1, len(t))]\n",
    "    daily_CFR = [0] + [100 * ((D[i]-D[i-1]) / ((R[i]-R[i-1]) + (D[i]-D[i-1]))) if max((R[i]-R[i-1]), (D[i]-D[i-1]))>10 else 0 for i in range(1, len(t))]\n",
    "    if x_ticks is None:\n",
    "        ax2.plot(t, total_CFR, 'r--', alpha=0.7, linewidth=2, label='total')\n",
    "        ax2.plot(t, daily_CFR, 'b--', alpha=0.7, linewidth=2, label='daily')\n",
    "    else:\n",
    "        ax2.plot(x_ticks, total_CFR, 'r--', alpha=0.7, linewidth=2, label='total')\n",
    "        ax2.plot(x_ticks, daily_CFR, 'b--', alpha=0.7, linewidth=2, label='daily')\n",
    "        ax2.xaxis.set_major_locator(mdates.YearLocator())\n",
    "        ax2.xaxis.set_major_formatter(mdates.DateFormatter('%Y-%m-%d'))\n",
    "        ax2.xaxis.set_minor_locator(mdates.MonthLocator())\n",
    "        f.autofmt_xdate()\n",
    "\n",
    "    ax2.title.set_text('Смертность (%)')\n",
    "    ax2.grid(b=True, which='major', c='w', lw=2, ls='-')\n",
    "    legend = ax2.legend()\n",
    "    legend.get_frame().set_alpha(0.5)\n",
    "    for spine in ('top', 'right', 'bottom', 'left'):\n",
    "        ax.spines[spine].set_visible(False)\n",
    "\n",
    "    # sp3\n",
    "    ax3 = f.add_subplot(133)\n",
    "    newDs = [0] + [D[i]-D[i-1] for i in range(1, len(t))]\n",
    "    if x_ticks is None:\n",
    "        ax3.plot(t, newDs, 'r--', alpha=0.7, linewidth=2, label='Общее кол-во')\n",
    "        ax3.plot(t, [max(0, C[i]-B(i)) for i in range(len(t))], 'b--', alpha=0.7, linewidth=2, label=\"Переполнение больниц\")\n",
    "    else:\n",
    "        ax3.plot(x_ticks, newDs, 'r--', alpha=0.7, linewidth=2, label='Общее кол-во')\n",
    "        ax3.plot(x_ticks, [max(0, C[i]-B(i)) for i in range(len(t))], 'b--', alpha=0.7, linewidth=2, label=\"Переполнение больниц\")\n",
    "        ax3.xaxis.set_major_locator(mdates.YearLocator())\n",
    "        ax3.xaxis.set_major_formatter(mdates.DateFormatter('%Y-%m-%d'))\n",
    "        ax3.xaxis.set_minor_locator(mdates.MonthLocator())\n",
    "        f.autofmt_xdate()\n",
    "\n",
    "    ax3.title.set_text('Кол-во смертей в день')\n",
    "    ax3.yaxis.set_tick_params(length=0)\n",
    "    ax3.xaxis.set_tick_params(length=0)\n",
    "    ax3.grid(b=True, which='major', c='w', lw=2, ls='-')\n",
    "    legend = ax3.legend()\n",
    "    legend.get_frame().set_alpha(0.5)\n",
    "    for spine in ('top', 'right', 'bottom', 'left'):\n",
    "        ax.spines[spine].set_visible(False)\n",
    "\n",
    "    plt.show();\n"
   ]
  },
  {
   "cell_type": "code",
   "execution_count": 141,
   "metadata": {},
   "outputs": [],
   "source": [
    "def deriv(y, t, beta, gamma, sigma, N, p_I_to_C, p_C_to_D, Beds):\n",
    "    S, E, I, C, R, D = y\n",
    "\n",
    "    dSdt = -beta(t) * I * S / N\n",
    "    dEdt = beta(t) * I * S / N - sigma * E\n",
    "    dIdt = sigma * E - 1/12.0 * p_I_to_C * I - gamma * (1 - p_I_to_C) * I\n",
    "    dCdt = 1/12.0 * p_I_to_C * I - 1/7.5 * p_C_to_D * min(Beds(t), C) - max(0, C-Beds(t)) - (1 - p_C_to_D) * 1/6.5 * min(Beds(t), C)\n",
    "    dRdt = gamma * (1 - p_I_to_C) * I + (1 - p_C_to_D) * 1/6.5 * min(Beds(t), C)\n",
    "    dDdt = 1/7.5 * p_C_to_D * min(Beds(t), C) + max(0, C-Beds(t))\n",
    "    return dSdt, dEdt, dIdt, dCdt, dRdt, dDdt"
   ]
  },
  {
   "cell_type": "code",
   "execution_count": 142,
   "metadata": {},
   "outputs": [],
   "source": [
    "gamma = 1.0/9.0\n",
    "sigma = 1.0/3.0\n",
    "\n",
    "def logistic_R_0(t, R_0_start, k, x0, R_0_end):\n",
    "    return (R_0_start-R_0_end) / (1 + np.exp(-k*(-t+x0))) + R_0_end\n",
    "\n",
    "def Model(days, agegroups, beds_per_100k, R_0_start, k, x0, R_0_end, prob_I_to_C, prob_C_to_D, s):\n",
    "\n",
    "    def beta(t):\n",
    "        return logistic_R_0(t, R_0_start, k, x0, R_0_end) * gamma\n",
    "\n",
    "    N = sum(agegroups)\n",
    "    \n",
    "    def Beds(t):\n",
    "        beds_0 = beds_per_100k / 100_000 * N\n",
    "        return beds_0 + s*beds_0*t  # 0.003\n",
    "\n",
    "    y0 = N-1.0, 1.0, 0.0, 0.0, 0.0, 0.0\n",
    "    t = np.linspace(0, days-1, days)\n",
    "    ret = odeint(deriv, y0, t, args=(beta, gamma, sigma, N, prob_I_to_C, prob_C_to_D, Beds))\n",
    "    S, E, I, C, R, D = ret.T\n",
    "    R_0_over_time = [beta(i)/gamma for i in range(len(t))]\n",
    "\n",
    "    return t, S, E, I, C, R, D, R_0_over_time, Beds, prob_I_to_C, prob_C_to_D"
   ]
  },
  {
   "cell_type": "code",
   "execution_count": 143,
   "metadata": {},
   "outputs": [
    {
     "name": "stdout",
     "output_type": "stream",
     "text": [
      "Доля попадающих в больницы: 5.0; Доля умирающих в больницах: 60.0\n"
     ]
    },
    {
     "data": {
      "image/png": "[encoded data removed]",
      "text/plain": [
       "<Figure size 1440x288 with 1 Axes>"
      ]
     },
     "metadata": {
      "needs_background": "light"
     },
     "output_type": "display_data"
    },
    {
     "data": {
      "image/png": "[encoded data removed]",
      "text/plain": [
       "<Figure size 1440x288 with 3 Axes>"
      ]
     },
     "metadata": {
      "needs_background": "light"
     },
     "output_type": "display_data"
    }
   ],
   "source": [
    "plotter(*Model(days=500, agegroups=[100000, 100000, 100000, 100000, 100000, 100000, 100000, 100000, 100000], \n",
    "               beds_per_100k=50, R_0_start=4.0, k=1.0, x0=60, R_0_end=1.0, \n",
    "               prob_I_to_C=0.05, prob_C_to_D=0.6, s=0.003))"
   ]
  },
  {
   "cell_type": "code",
   "execution_count": 144,
   "metadata": {},
   "outputs": [],
   "source": [
    "# parameters\n",
    "data = covid_data[covid_data[\"Location\"] == \"Italy\"][\"Value\"].values[::-1]\n",
    "agegroups = agegroup_lookup[\"Italy\"]\n",
    "beds_per_100k = beds_lookup[\"Italy\"]\n",
    "outbreak_shift = 30\n",
    "params_init_min_max = {\"R_0_start\": (3.0, 2.0, 5.0), \"k\": (2.5, 0.01, 5.0), \n",
    "                       \"x0\": (90, 0, 120), \"R_0_end\": (0.9, 0.3, 3.5),\n",
    "                       \"prob_I_to_C\": (0.05, 0.01, 0.1), \"prob_C_to_D\": (0.5, 0.05, 0.8),\n",
    "                       \"s\": (0.003, 0.001, 0.01)}  # form: {parameter: (Начальное предположение, min, max)}"
   ]
  },
  {
   "cell_type": "code",
   "execution_count": 145,
   "metadata": {},
   "outputs": [],
   "source": [
    "days = outbreak_shift + len(data)\n",
    "if outbreak_shift >= 0:\n",
    "    y_data = np.concatenate((np.zeros(outbreak_shift), data))\n",
    "else:\n",
    "    y_data = y_data[-outbreak_shift:]\n",
    "\n",
    "x_data = np.linspace(0, days - 1, days, dtype=int)  # x_data – список [0, 1, ..., max_days]\n",
    "\n",
    "def fitter(x, R_0_start, k, x0, R_0_end, prob_I_to_C, prob_C_to_D, s):\n",
    "    ret = Model(days, agegroups, beds_per_100k, R_0_start, k, x0, R_0_end, prob_I_to_C, prob_C_to_D, s)\n",
    "    return ret[6][x]"
   ]
  },
  {
   "cell_type": "code",
   "execution_count": 146,
   "metadata": {},
   "outputs": [],
   "source": [
    "def fitter(x, R_0_start, k, x0, R_0_end, prob_I_to_C, prob_C_to_D, s):\n",
    "    ret = Model(days, agegroups, beds_per_100k, R_0_start, k, x0, R_0_end, prob_I_to_C, prob_C_to_D, s)\n",
    "    return ret[6][x]"
   ]
  },
  {
   "cell_type": "code",
   "execution_count": 147,
   "metadata": {},
   "outputs": [],
   "source": [
    "mod = lmfit.Model(fitter)\n",
    "\n",
    "for kwarg, (init, mini, maxi) in params_init_min_max.items():\n",
    "    mod.set_param_hint(str(kwarg), value=init, min=mini, max=maxi, vary=True)\n",
    "\n",
    "params = mod.make_params()\n",
    "fit_method = \"leastsq\""
   ]
  },
  {
   "cell_type": "code",
   "execution_count": 148,
   "metadata": {},
   "outputs": [
    {
     "data": {
      "text/html": [
       "<table><tr><th> name </th><th> value </th><th> initial value </th><th> min </th><th> max </th><th> vary </th></tr><tr><td> R_0_start </td><td>  3.00000000 </td><td> None </td><td>  2.00000000 </td><td>  5.00000000 </td><td> True </td></tr><tr><td> k </td><td>  2.50000000 </td><td> None </td><td>  0.01000000 </td><td>  5.00000000 </td><td> True </td></tr><tr><td> x0 </td><td>  90.0000000 </td><td> None </td><td>  0.00000000 </td><td>  120.000000 </td><td> True </td></tr><tr><td> R_0_end </td><td>  0.90000000 </td><td> None </td><td>  0.30000000 </td><td>  3.50000000 </td><td> True </td></tr><tr><td> prob_I_to_C </td><td>  0.05000000 </td><td> None </td><td>  0.01000000 </td><td>  0.10000000 </td><td> True </td></tr><tr><td> prob_C_to_D </td><td>  0.50000000 </td><td> None </td><td>  0.05000000 </td><td>  0.80000000 </td><td> True </td></tr><tr><td> s </td><td>  0.00300000 </td><td> None </td><td>  1.0000e-03 </td><td>  0.01000000 </td><td> True </td></tr></table>"
      ],
      "text/plain": [
       "Parameters([('R_0_start',\n",
       "             <Parameter 'R_0_start', value=3.0, bounds=[2.0:5.0]>),\n",
       "            ('k', <Parameter 'k', value=2.5, bounds=[0.01:5.0]>),\n",
       "            ('x0', <Parameter 'x0', value=90, bounds=[0:120]>),\n",
       "            ('R_0_end', <Parameter 'R_0_end', value=0.9, bounds=[0.3:3.5]>),\n",
       "            ('prob_I_to_C',\n",
       "             <Parameter 'prob_I_to_C', value=0.05, bounds=[0.01:0.1]>),\n",
       "            ('prob_C_to_D',\n",
       "             <Parameter 'prob_C_to_D', value=0.5, bounds=[0.05:0.8]>),\n",
       "            ('s', <Parameter 's', value=0.003, bounds=[0.001:0.01]>)])"
      ]
     },
     "execution_count": 148,
     "metadata": {},
     "output_type": "execute_result"
    }
   ],
   "source": [
    "params"
   ]
  },
  {
   "cell_type": "code",
   "execution_count": 149,
   "metadata": {},
   "outputs": [],
   "source": [
    "result = mod.fit(y_data, params, method=\"least_squares\", x=x_data)"
   ]
  },
  {
   "cell_type": "code",
   "execution_count": 150,
   "metadata": {},
   "outputs": [
    {
     "data": {
      "image/png": "[encoded data removed]",
      "text/plain": [
       "<Figure size 432x288 with 1 Axes>"
      ]
     },
     "metadata": {
      "needs_background": "light"
     },
     "output_type": "display_data"
    }
   ],
   "source": [
    "result.plot_fit(datafmt=\"-\");"
   ]
  },
  {
   "cell_type": "code",
   "execution_count": 109,
   "metadata": {},
   "outputs": [
    {
     "data": {
      "text/plain": [
       "{'R_0_start': 2.4806391020752607,\n",
       " 'k': 1.3271553823365672,\n",
       " 'x0': 83.26897353413997,\n",
       " 'R_0_end': 0.8028864252977291,\n",
       " 'prob_I_to_C': 0.04893482633951362,\n",
       " 'prob_C_to_D': 0.42215668435248477,\n",
       " 's': 0.0067191586828231524}"
      ]
     },
     "execution_count": 109,
     "metadata": {},
     "output_type": "execute_result"
    }
   ],
   "source": [
    "result.best_values\n"
   ]
  },
  {
   "cell_type": "code",
   "execution_count": 111,
   "metadata": {},
   "outputs": [
    {
     "data": {
      "text/html": [
       "<div>\n",
       "<style scoped>\n",
       "    .dataframe tbody tr th:only-of-type {\n",
       "        vertical-align: middle;\n",
       "    }\n",
       "\n",
       "    .dataframe tbody tr th {\n",
       "        vertical-align: top;\n",
       "    }\n",
       "\n",
       "    .dataframe thead th {\n",
       "        text-align: right;\n",
       "    }\n",
       "</style>\n",
       "<table border=\"1\" class=\"dataframe\">\n",
       "  <thead>\n",
       "    <tr style=\"text-align: right;\">\n",
       "      <th></th>\n",
       "      <th>Age</th>\n",
       "      <th>prob_I_to_ICU_1</th>\n",
       "      <th>prob_ICU_to_Death_1</th>\n",
       "      <th>prob_I_to_ICU_2</th>\n",
       "      <th>prob_ICU_to_Death_2</th>\n",
       "    </tr>\n",
       "  </thead>\n",
       "  <tbody>\n",
       "    <tr>\n",
       "      <th>0</th>\n",
       "      <td>0_9</td>\n",
       "      <td>0.001</td>\n",
       "      <td>0.00</td>\n",
       "      <td>0.00100</td>\n",
       "      <td>0.000</td>\n",
       "    </tr>\n",
       "    <tr>\n",
       "      <th>1</th>\n",
       "      <td>10_19</td>\n",
       "      <td>0.003</td>\n",
       "      <td>0.00</td>\n",
       "      <td>0.00300</td>\n",
       "      <td>0.000</td>\n",
       "    </tr>\n",
       "    <tr>\n",
       "      <th>2</th>\n",
       "      <td>20_29</td>\n",
       "      <td>0.009</td>\n",
       "      <td>0.05</td>\n",
       "      <td>0.00600</td>\n",
       "      <td>0.000</td>\n",
       "    </tr>\n",
       "    <tr>\n",
       "      <th>3</th>\n",
       "      <td>30_39</td>\n",
       "      <td>0.025</td>\n",
       "      <td>0.06</td>\n",
       "      <td>0.00900</td>\n",
       "      <td>0.000</td>\n",
       "    </tr>\n",
       "    <tr>\n",
       "      <th>4</th>\n",
       "      <td>40_49</td>\n",
       "      <td>0.030</td>\n",
       "      <td>0.10</td>\n",
       "      <td>0.02500</td>\n",
       "      <td>0.120</td>\n",
       "    </tr>\n",
       "    <tr>\n",
       "      <th>5</th>\n",
       "      <td>50_59</td>\n",
       "      <td>0.050</td>\n",
       "      <td>0.26</td>\n",
       "      <td>0.03560</td>\n",
       "      <td>0.365</td>\n",
       "    </tr>\n",
       "    <tr>\n",
       "      <th>6</th>\n",
       "      <td>60_69</td>\n",
       "      <td>0.070</td>\n",
       "      <td>0.57</td>\n",
       "      <td>0.05926</td>\n",
       "      <td>0.675</td>\n",
       "    </tr>\n",
       "    <tr>\n",
       "      <th>7</th>\n",
       "      <td>70_79</td>\n",
       "      <td>0.100</td>\n",
       "      <td>0.86</td>\n",
       "      <td>0.10100</td>\n",
       "      <td>0.850</td>\n",
       "    </tr>\n",
       "    <tr>\n",
       "      <th>8</th>\n",
       "      <td>80_89</td>\n",
       "      <td>0.140</td>\n",
       "      <td>0.95</td>\n",
       "      <td>0.14100</td>\n",
       "      <td>0.950</td>\n",
       "    </tr>\n",
       "    <tr>\n",
       "      <th>9</th>\n",
       "      <td>90_100</td>\n",
       "      <td>0.160</td>\n",
       "      <td>0.98</td>\n",
       "      <td>0.16000</td>\n",
       "      <td>0.990</td>\n",
       "    </tr>\n",
       "  </tbody>\n",
       "</table>\n",
       "</div>"
      ],
      "text/plain": [
       "      Age  prob_I_to_ICU_1  prob_ICU_to_Death_1  prob_I_to_ICU_2  \\\n",
       "0     0_9            0.001                 0.00          0.00100   \n",
       "1   10_19            0.003                 0.00          0.00300   \n",
       "2   20_29            0.009                 0.05          0.00600   \n",
       "3   30_39            0.025                 0.06          0.00900   \n",
       "4   40_49            0.030                 0.10          0.02500   \n",
       "5   50_59            0.050                 0.26          0.03560   \n",
       "6   60_69            0.070                 0.57          0.05926   \n",
       "7   70_79            0.100                 0.86          0.10100   \n",
       "8   80_89            0.140                 0.95          0.14100   \n",
       "9  90_100            0.160                 0.98          0.16000   \n",
       "\n",
       "   prob_ICU_to_Death_2  \n",
       "0                0.000  \n",
       "1                0.000  \n",
       "2                0.000  \n",
       "3                0.000  \n",
       "4                0.120  \n",
       "5                0.365  \n",
       "6                0.675  \n",
       "7                0.850  \n",
       "8                0.950  \n",
       "9                0.990  "
      ]
     },
     "execution_count": 111,
     "metadata": {},
     "output_type": "execute_result"
    }
   ],
   "source": [
    "probabilities"
   ]
  },
  {
   "cell_type": "code",
   "execution_count": null,
   "metadata": {},
   "outputs": [],
   "source": []
  }
 ],
 "metadata": {
  "kernelspec": {
   "display_name": "Python 3",
   "language": "python",
   "name": "python3"
  },
  "language_info": {
   "codemirror_mode": {
    "name": "ipython",
    "version": 3
   },
   "file_extension": ".py",
   "mimetype": "text/x-python",
   "name": "python",
   "nbconvert_exporter": "python",
   "pygments_lexer": "ipython3",
   "version": "3.8.3"
  }
 },
 "nbformat": 4,
 "nbformat_minor": 4
}
