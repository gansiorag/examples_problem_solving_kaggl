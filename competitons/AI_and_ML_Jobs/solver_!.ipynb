{
 "cells": [
  {
   "cell_type": "code",
   "execution_count": 1,
   "metadata": {},
   "outputs": [],
   "source": [
    "import pandas as pd"
   ]
  },
  {
   "cell_type": "code",
   "execution_count": 2,
   "metadata": {},
   "outputs": [
    {
     "data": {
      "text/html": [
       "<div>\n",
       "<style scoped>\n",
       "    .dataframe tbody tr th:only-of-type {\n",
       "        vertical-align: middle;\n",
       "    }\n",
       "\n",
       "    .dataframe tbody tr th {\n",
       "        vertical-align: top;\n",
       "    }\n",
       "\n",
       "    .dataframe thead th {\n",
       "        text-align: right;\n",
       "    }\n",
       "</style>\n",
       "<table border=\"1\" class=\"dataframe\">\n",
       "  <thead>\n",
       "    <tr style=\"text-align: right;\">\n",
       "      <th></th>\n",
       "      <th>Title</th>\n",
       "      <th>Company</th>\n",
       "      <th>Location</th>\n",
       "      <th>Type of Positions</th>\n",
       "      <th>Job Description</th>\n",
       "      <th>Salary</th>\n",
       "      <th>Identified_Skills</th>\n",
       "    </tr>\n",
       "  </thead>\n",
       "  <tbody>\n",
       "    <tr>\n",
       "      <th>0</th>\n",
       "      <td>Staff Applied Scientist, Marketplace</td>\n",
       "      <td>ThredUp Inc.</td>\n",
       "      <td>CA</td>\n",
       "      <td>Full-time</td>\n",
       "      <td>\\nAbout thredUP thredUP is transforming resale...</td>\n",
       "      <td>190000.0</td>\n",
       "      <td>['python', 'machine learning', 'aws', 'sql']</td>\n",
       "    </tr>\n",
       "    <tr>\n",
       "      <th>1</th>\n",
       "      <td>Prompt Engineer for Generative AI (chatbot and...</td>\n",
       "      <td>Vicarious Talent Agency</td>\n",
       "      <td>WA</td>\n",
       "      <td>Full-time</td>\n",
       "      <td>We are Vicarious, a talent agency that represe...</td>\n",
       "      <td>70000.0</td>\n",
       "      <td>['python', 'machine learning', 'deep learning'...</td>\n",
       "    </tr>\n",
       "    <tr>\n",
       "      <th>2</th>\n",
       "      <td>Data Systems Analyst/Architect</td>\n",
       "      <td>General Dynamics Information Technology</td>\n",
       "      <td>Remote</td>\n",
       "      <td>Full-time</td>\n",
       "      <td>Clearance Level None Category Data Science Loc...</td>\n",
       "      <td>104000.0</td>\n",
       "      <td>['machine learning', 'aws', 'azure', 'nosql', ...</td>\n",
       "    </tr>\n",
       "    <tr>\n",
       "      <th>3</th>\n",
       "      <td>AIOps Principle Data Scientist</td>\n",
       "      <td>CVS Health</td>\n",
       "      <td>CT</td>\n",
       "      <td>Full-time</td>\n",
       "      <td>\\nBring your heart to CVS Health. Every one of...</td>\n",
       "      <td>140000.0</td>\n",
       "      <td>['python', 'machine learning', 'aws', 'gcp']</td>\n",
       "    </tr>\n",
       "    <tr>\n",
       "      <th>4</th>\n",
       "      <td>Sr. Data Scientist</td>\n",
       "      <td>Altak Group</td>\n",
       "      <td>Remote</td>\n",
       "      <td>Full-time</td>\n",
       "      <td>Job Summary:\\nWe are seeking an experienced Da...</td>\n",
       "      <td>136000.0</td>\n",
       "      <td>['python', 'machine learning', 'tableau', 'aws...</td>\n",
       "    </tr>\n",
       "  </tbody>\n",
       "</table>\n",
       "</div>"
      ],
      "text/plain": [
       "                                               Title  \\\n",
       "0               Staff Applied Scientist, Marketplace   \n",
       "1  Prompt Engineer for Generative AI (chatbot and...   \n",
       "2                     Data Systems Analyst/Architect   \n",
       "3                     AIOps Principle Data Scientist   \n",
       "4                                 Sr. Data Scientist   \n",
       "\n",
       "                                   Company Location Type of Positions  \\\n",
       "0                             ThredUp Inc.       CA         Full-time   \n",
       "1                  Vicarious Talent Agency       WA         Full-time   \n",
       "2  General Dynamics Information Technology   Remote         Full-time   \n",
       "3                               CVS Health       CT         Full-time   \n",
       "4                              Altak Group   Remote         Full-time   \n",
       "\n",
       "                                     Job Description    Salary  \\\n",
       "0  \\nAbout thredUP thredUP is transforming resale...  190000.0   \n",
       "1  We are Vicarious, a talent agency that represe...   70000.0   \n",
       "2  Clearance Level None Category Data Science Loc...  104000.0   \n",
       "3  \\nBring your heart to CVS Health. Every one of...  140000.0   \n",
       "4  Job Summary:\\nWe are seeking an experienced Da...  136000.0   \n",
       "\n",
       "                                   Identified_Skills  \n",
       "0       ['python', 'machine learning', 'aws', 'sql']  \n",
       "1  ['python', 'machine learning', 'deep learning'...  \n",
       "2  ['machine learning', 'aws', 'azure', 'nosql', ...  \n",
       "3       ['python', 'machine learning', 'aws', 'gcp']  \n",
       "4  ['python', 'machine learning', 'tableau', 'aws...  "
      ]
     },
     "execution_count": 2,
     "metadata": {},
     "output_type": "execute_result"
    }
   ],
   "source": [
    "name_f = '/home/al/Projects_My/examples_problem_solving_kaggl/competitons/AI_and_ML_Jobs/final_job_list.csv'\n",
    "df = pd.read_csv(name_f, delimiter=',')\n",
    "df.head()"
   ]
  },
  {
   "cell_type": "code",
   "execution_count": 3,
   "metadata": {},
   "outputs": [
    {
     "name": "stdout",
     "output_type": "stream",
     "text": [
      "<class 'pandas.core.frame.DataFrame'>\n",
      "RangeIndex: 692 entries, 0 to 691\n",
      "Data columns (total 7 columns):\n",
      " #   Column             Non-Null Count  Dtype  \n",
      "---  ------             --------------  -----  \n",
      " 0   Title              692 non-null    object \n",
      " 1   Company            692 non-null    object \n",
      " 2   Location           692 non-null    object \n",
      " 3   Type of Positions  692 non-null    object \n",
      " 4   Job Description    692 non-null    object \n",
      " 5   Salary             692 non-null    float64\n",
      " 6   Identified_Skills  692 non-null    object \n",
      "dtypes: float64(1), object(6)\n",
      "memory usage: 38.0+ KB\n"
     ]
    }
   ],
   "source": [
    "df.info()"
   ]
  },
  {
   "cell_type": "code",
   "execution_count": 5,
   "metadata": {},
   "outputs": [
    {
     "data": {
      "text/plain": [
       "0      190000.0\n",
       "1       70000.0\n",
       "2      104000.0\n",
       "3      140000.0\n",
       "4      136000.0\n",
       "         ...   \n",
       "687    160000.0\n",
       "688    160000.0\n",
       "689    160000.0\n",
       "690    160000.0\n",
       "691    160000.0\n",
       "Name: Salary, Length: 692, dtype: float64"
      ]
     },
     "execution_count": 5,
     "metadata": {},
     "output_type": "execute_result"
    }
   ],
   "source": [
    "d_salary = df['Salary']\n",
    "d_salary"
   ]
  },
  {
   "cell_type": "code",
   "execution_count": 6,
   "metadata": {},
   "outputs": [
    {
     "data": {
      "text/plain": [
       "count       692.000000\n",
       "mean     131428.635838\n",
       "std       39712.952798\n",
       "min        4145.000000\n",
       "25%      101000.000000\n",
       "50%      149532.000000\n",
       "75%      160000.000000\n",
       "max      268000.000000\n",
       "Name: Salary, dtype: float64"
      ]
     },
     "execution_count": 6,
     "metadata": {},
     "output_type": "execute_result"
    }
   ],
   "source": [
    "d_salary.describe()"
   ]
  }
 ],
 "metadata": {
  "kernelspec": {
   "display_name": "Python 3",
   "language": "python",
   "name": "python3"
  },
  "language_info": {
   "codemirror_mode": {
    "name": "ipython",
    "version": 3
   },
   "file_extension": ".py",
   "mimetype": "text/x-python",
   "name": "python",
   "nbconvert_exporter": "python",
   "pygments_lexer": "ipython3",
   "version": "3.10.12"
  }
 },
 "nbformat": 4,
 "nbformat_minor": 2
}
