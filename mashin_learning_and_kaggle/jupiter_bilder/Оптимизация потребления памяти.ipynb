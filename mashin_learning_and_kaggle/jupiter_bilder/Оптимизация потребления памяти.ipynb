{
 "cells": [
  {
   "cell_type": "markdown",
   "metadata": {},
   "source": [
    "### Постановка задачи\n",
    "Загрузить данные по энергопотреблению всех зданий в оперативную память и добиться ее минимального расхода\n",
    "\n",
    "Данные:\n",
    "* http://video.ittensive.com/machine-learning/ashrae/building_metadata.csv.gz\n",
    "* http://video.ittensive.com/machine-learning/ashrae/weather_train.csv.gz\n",
    "* http://video.ittensive.com/machine-learning/ashrae/train.0.csv.gz <br>\n",
    "Соревнование: https://www.kaggle.com/c/ashrae-energy-prediction/\n",
    "\n"
   ]
  },
  {
   "cell_type": "markdown",
   "metadata": {},
   "source": [
    "### Подключение библиотек"
   ]
  },
  {
   "cell_type": "code",
   "execution_count": 1,
   "metadata": {},
   "outputs": [],
   "source": [
    "import pandas as pd\n",
    "import numpy as np"
   ]
  },
  {
   "cell_type": "markdown",
   "metadata": {},
   "source": [
    "### Точность и размер типов\n",
    "для тех кто не знает существует сокращенное обозначение целых и вещественных чисел\n",
    "i1 - целое один байт, i2 - целое два байта, i4 - целое четыре байта, соответсвенно и вещественные f2, f4, f8\n",
    "и соответсвенно через функции iinfo и finfo библиотеки numpy мы получаем все характеристики этих типов."
   ]
  },
  {
   "cell_type": "code",
   "execution_count": 2,
   "metadata": {},
   "outputs": [
    {
     "name": "stdout",
     "output_type": "stream",
     "text": [
      "f2\n",
      "Machine parameters for float16\n",
      "---------------------------------------------------------------\n",
      "precision =   3   resolution = 1.00040e-03\n",
      "machep =    -10   eps =        9.76562e-04\n",
      "negep =     -11   epsneg =     4.88281e-04\n",
      "minexp =    -14   tiny =       6.10352e-05\n",
      "maxexp =     16   max =        6.55040e+04\n",
      "nexp =        5   min =        -max\n",
      "---------------------------------------------------------------\n",
      "\n",
      "f4\n",
      "Machine parameters for float32\n",
      "---------------------------------------------------------------\n",
      "precision =   6   resolution = 1.0000000e-06\n",
      "machep =    -23   eps =        1.1920929e-07\n",
      "negep =     -24   epsneg =     5.9604645e-08\n",
      "minexp =   -126   tiny =       1.1754944e-38\n",
      "maxexp =    128   max =        3.4028235e+38\n",
      "nexp =        8   min =        -max\n",
      "---------------------------------------------------------------\n",
      "\n",
      "Machine parameters for int8\n",
      "---------------------------------------------------------------\n",
      "min = -128\n",
      "max = 127\n",
      "---------------------------------------------------------------\n",
      "\n",
      "Machine parameters for int16\n",
      "---------------------------------------------------------------\n",
      "min = -32768\n",
      "max = 32767\n",
      "---------------------------------------------------------------\n",
      "\n",
      "Machine parameters for int32\n",
      "---------------------------------------------------------------\n",
      "min = -2147483648\n",
      "max = 2147483647\n",
      "---------------------------------------------------------------\n",
      "\n"
     ]
    }
   ],
   "source": [
    "for type_ in [\"f2\", \"f4\"]:\n",
    "    print(type_)\n",
    "    print (np.finfo(type_))\n",
    "for type_ in [\"i1\", \"i2\", \"i4\"]:\n",
    "    print (np.iinfo(type_))"
   ]
  },
  {
   "cell_type": "markdown",
   "metadata": {},
   "source": [
    "### Загрузка данных"
   ]
  },
  {
   "cell_type": "code",
   "execution_count": 3,
   "metadata": {},
   "outputs": [],
   "source": [
    "buildings = pd.read_csv(\"http://video.ittensive.com/machine-learning/ashrae/building_metadata.csv.gz\")\n",
    "weather = pd.read_csv(\"http://video.ittensive.com/machine-learning/ashrae/weather_train.csv.gz\")\n",
    "energy = pd.read_csv(\"http://video.ittensive.com/machine-learning/ashrae/train.0.csv.gz\")"
   ]
  },
  {
   "cell_type": "markdown",
   "metadata": {},
   "source": [
    "### Потребление памяти"
   ]
  },
  {
   "cell_type": "code",
   "execution_count": 4,
   "metadata": {},
   "outputs": [
    {
     "name": "stdout",
     "output_type": "stream",
     "text": [
      "Строения:  0.0664520263671875 Мб\n",
      "Погода:  9.597572326660156 Мб\n",
      "Энергопотребление:  368.06988525390625 Мб\n"
     ]
    }
   ],
   "source": [
    "print (\"Строения: \", buildings.memory_usage().sum() / 1024**2, \"Мб\")\n",
    "print (\"Погода: \", weather.memory_usage().sum() / 1024**2, \"Мб\")\n",
    "print (\"Энергопотребление: \", energy.memory_usage().sum() / 1024**2, \"Мб\")"
   ]
  },
  {
   "cell_type": "markdown",
   "metadata": {},
   "source": [
    "### Функция оптимизация памяти"
   ]
  },
  {
   "cell_type": "code",
   "execution_count": 5,
   "metadata": {},
   "outputs": [],
   "source": [
    "def reduce_mem_usage (df):\n",
    "    start_mem = df.memory_usage().sum() / 1024**2    \n",
    "    for col in df.columns:\n",
    "        col_type = df[col].dtypes\n",
    "        print(col_type)\n",
    "        if str(col_type)[:5] == \"float\":\n",
    "            c_min = df[col].min()\n",
    "            c_max = df[col].max()\n",
    "            if c_min > np.finfo(\"f2\").min and c_max < np.finfo(\"f2\").max:\n",
    "                df[col] = df[col].astype(np.float16)\n",
    "            elif c_min > np.finfo(\"f4\").min and c_max < np.finfo(\"f4\").max:\n",
    "                df[col] = df[col].astype(np.float32)\n",
    "            else:\n",
    "                df[col] = df[col].astype(np.float64)\n",
    "        elif str(col_type)[:3] == \"int\":\n",
    "            c_min = df[col].min()\n",
    "            c_max = df[col].max()\n",
    "            if c_min > np.iinfo(\"i1\").min and c_max < np.iinfo(\"i1\").max:\n",
    "                df[col] = df[col].astype(np.int8)\n",
    "            elif c_min > np.iinfo(\"i2\").min and c_max < np.iinfo(\"i2\").max:\n",
    "                df[col] = df[col].astype(np.int16)\n",
    "            elif c_min > np.iinfo(\"i4\").min and c_max < np.iinfo(\"i4\").max:\n",
    "                df[col] = df[col].astype(np.int32)\n",
    "            elif c_min > np.iinfo(\"i8\").min and c_max < np.iinfo(\"i8\").max:\n",
    "                df[col] = df[col].astype(np.int64)\n",
    "        elif col == \"timestamp\":\n",
    "            df[col] = pd.to_datetime(df[col])\n",
    "        elif str(col_type)[:8] != \"datetime\":\n",
    "            df[col] = df[col].astype(\"category\")\n",
    "    end_mem = df.memory_usage().sum() / 1024**2\n",
    "    print('Потребление памяти меньше на',\n",
    "          round(start_mem - end_mem, 2),\n",
    "          'Мб (минус',\n",
    "          round(100 * (start_mem - end_mem) / start_mem, 1),\n",
    "         '%)')\n",
    "    return df"
   ]
  },
  {
   "cell_type": "markdown",
   "metadata": {},
   "source": [
    "### Оптимизация памяти: строения"
   ]
  },
  {
   "cell_type": "code",
   "execution_count": 6,
   "metadata": {},
   "outputs": [
    {
     "name": "stdout",
     "output_type": "stream",
     "text": [
      "int64\n",
      "int64\n",
      "object\n",
      "int64\n",
      "float64\n",
      "float64\n",
      "Потребление памяти меньше на 0.05 Мб (минус 73.8 %)\n",
      "<class 'pandas.core.frame.DataFrame'>\n",
      "RangeIndex: 1449 entries, 0 to 1448\n",
      "Data columns (total 6 columns):\n",
      " #   Column       Non-Null Count  Dtype   \n",
      "---  ------       --------------  -----   \n",
      " 0   site_id      1449 non-null   int8    \n",
      " 1   building_id  1449 non-null   int16   \n",
      " 2   primary_use  1449 non-null   category\n",
      " 3   square_feet  1449 non-null   int32   \n",
      " 4   year_built   675 non-null    float16 \n",
      " 5   floor_count  355 non-null    float16 \n",
      "dtypes: category(1), float16(2), int16(1), int32(1), int8(1)\n",
      "memory usage: 17.9 KB\n",
      "None\n"
     ]
    }
   ],
   "source": [
    "buildings = reduce_mem_usage(buildings)\n",
    "print (buildings.info())"
   ]
  },
  {
   "cell_type": "markdown",
   "metadata": {},
   "source": [
    "### Отимизация: погода"
   ]
  },
  {
   "cell_type": "code",
   "execution_count": 7,
   "metadata": {},
   "outputs": [
    {
     "name": "stdout",
     "output_type": "stream",
     "text": [
      "int64\n",
      "object\n",
      "float64\n",
      "float64\n",
      "float64\n",
      "float64\n",
      "float64\n",
      "float64\n",
      "float64\n",
      "Потребление памяти меньше на 6.53 Мб (минус 68.1 %)\n",
      "<class 'pandas.core.frame.DataFrame'>\n",
      "RangeIndex: 139773 entries, 0 to 139772\n",
      "Data columns (total 9 columns):\n",
      " #   Column              Non-Null Count   Dtype         \n",
      "---  ------              --------------   -----         \n",
      " 0   site_id             139773 non-null  int8          \n",
      " 1   timestamp           139773 non-null  datetime64[ns]\n",
      " 2   air_temperature     139718 non-null  float16       \n",
      " 3   cloud_coverage      70600 non-null   float16       \n",
      " 4   dew_temperature     139660 non-null  float16       \n",
      " 5   precip_depth_1_hr   89484 non-null   float16       \n",
      " 6   sea_level_pressure  129155 non-null  float16       \n",
      " 7   wind_direction      133505 non-null  float16       \n",
      " 8   wind_speed          139469 non-null  float16       \n",
      "dtypes: datetime64[ns](1), float16(7), int8(1)\n",
      "memory usage: 3.1 MB\n",
      "None\n"
     ]
    }
   ],
   "source": [
    "weather = reduce_mem_usage(weather)\n",
    "print (weather.info())"
   ]
  },
  {
   "cell_type": "markdown",
   "metadata": {},
   "source": [
    "### Оптимизация: энергопотребление"
   ]
  },
  {
   "cell_type": "code",
   "execution_count": 10,
   "metadata": {},
   "outputs": [
    {
     "name": "stdout",
     "output_type": "stream",
     "text": [
      "datetime64[ns]\n",
      "int16\n",
      "float32\n",
      "category\n",
      "int32\n",
      "float16\n",
      "float16\n",
      "float16\n",
      "float16\n",
      "float16\n",
      "float16\n",
      "float16\n",
      "float16\n",
      "float16\n",
      "Потребление памяти меньше на 0.0 Мб (минус 0.0 %)\n",
      "<class 'pandas.core.frame.DataFrame'>\n",
      "RangeIndex: 12060910 entries, 0 to 12060909\n",
      "Data columns (total 14 columns):\n",
      " #   Column              Dtype         \n",
      "---  ------              -----         \n",
      " 0   timestamp           datetime64[ns]\n",
      " 1   building_id         int16         \n",
      " 2   meter_reading       float32       \n",
      " 3   primary_use         category      \n",
      " 4   square_feet         int32         \n",
      " 5   year_built          float16       \n",
      " 6   floor_count         float16       \n",
      " 7   air_temperature     float16       \n",
      " 8   cloud_coverage      float16       \n",
      " 9   dew_temperature     float16       \n",
      " 10  precip_depth_1_hr   float16       \n",
      " 11  sea_level_pressure  float16       \n",
      " 12  wind_direction      float16       \n",
      " 13  wind_speed          float16       \n",
      "dtypes: category(1), datetime64[ns](1), float16(9), float32(1), int16(1), int32(1)\n",
      "memory usage: 425.6 MB\n",
      "None\n"
     ]
    }
   ],
   "source": [
    "energy = reduce_mem_usage(energy)\n",
    "print (energy.info())"
   ]
  },
  {
   "cell_type": "markdown",
   "metadata": {},
   "source": [
    "### Объединение данных"
   ]
  },
  {
   "cell_type": "code",
   "execution_count": 9,
   "metadata": {},
   "outputs": [
    {
     "name": "stdout",
     "output_type": "stream",
     "text": [
      "<class 'pandas.core.frame.DataFrame'>\n",
      "RangeIndex: 12060910 entries, 0 to 12060909\n",
      "Data columns (total 14 columns):\n",
      " #   Column              Dtype         \n",
      "---  ------              -----         \n",
      " 0   timestamp           datetime64[ns]\n",
      " 1   building_id         int16         \n",
      " 2   meter_reading       float32       \n",
      " 3   primary_use         category      \n",
      " 4   square_feet         int32         \n",
      " 5   year_built          float16       \n",
      " 6   floor_count         float16       \n",
      " 7   air_temperature     float16       \n",
      " 8   cloud_coverage      float16       \n",
      " 9   dew_temperature     float16       \n",
      " 10  precip_depth_1_hr   float16       \n",
      " 11  sea_level_pressure  float16       \n",
      " 12  wind_direction      float16       \n",
      " 13  wind_speed          float16       \n",
      "dtypes: category(1), datetime64[ns](1), float16(9), float32(1), int16(1), int32(1)\n",
      "memory usage: 425.6 MB\n",
      "None\n"
     ]
    }
   ],
   "source": [
    "energy = pd.merge(left=energy, right=buildings, how=\"left\",\n",
    "                   left_on=\"building_id\", right_on=\"building_id\")\n",
    "energy = pd.merge(left=energy.set_index([\"timestamp\", \"site_id\"]),\n",
    "                  right=weather.set_index([\"timestamp\", \"site_id\"]),\n",
    "                  how=\"left\", left_index=True, right_index=True)\n",
    "energy.reset_index(inplace=True)\n",
    "energy = energy.drop(columns=[\"site_id\", \"meter\"], axis=1)\n",
    "print (energy.info())"
   ]
  },
  {
   "cell_type": "markdown",
   "metadata": {},
   "source": [
    "### Исследование диапазона данных"
   ]
  },
  {
   "cell_type": "code",
   "execution_count": 106,
   "metadata": {},
   "outputs": [
    {
     "name": "stdout",
     "output_type": "stream",
     "text": [
      "wind speed: [ 0.          3.09960938  3.59960938  4.1015625          nan  1.5\n",
      "  5.          2.59960938  6.19921875  1.          3.          4.6015625\n",
      "  0.5         2.09960938  7.69921875  4.          5.1015625   5.69921875\n",
      "  7.19921875  8.203125    9.296875   11.          6.69921875  8.796875\n",
      " 12.          9.796875   14.         13.         12.8984375  10.796875\n",
      " 10.296875   11.296875   10.          9.          7.          6.\n",
      "  2.          6.1015625   8.          1.59960938  1.29980469  3.19921875\n",
      " 13.3984375  11.796875   12.3984375  12.796875    8.703125   13.8984375\n",
      " 15.         16.         17.         18.         19.         14.8984375\n",
      " 14.3984375  15.3984375  16.5        18.5         2.19921875]\n",
      "cloud coverage: [ 6. nan  8.  4.  0.  2.  7.  5.  3.  9.  1.]\n",
      "precip depth: [ nan  -1.   0.   5.   2.   3.   8.  13.  10.   7.  11.  15.  18.  20.\n",
      "  48.  25.  23.  41.  28.  66.  36.  33.  38.  46.  30.  17.  76.  53.\n",
      "  94.  58.   9.   4.   6. 165.  51.  61.  81.  69.  56.  79. 112.  86.\n",
      "  64.  89.  21.  43.  39.  97.  24.  26.  84.  16.  91.  45.  40.  34.\n",
      "  14.  12. 203.  71.  22.  27. 122. 343. 130. 135. 124.  68.  37.  19.\n",
      " 193. 155. 102. 109.  74. 198. 310. 160. 234.  35.  32. 105. 103. 104.\n",
      " 196.  29.  99. 114. 119.  31.  50. 142.  55. 150. 262.  70. 137. 340.\n",
      " 127. 145. 163. 132. 333. 175.  83. 201. 257. 162. 164. 107.  98.  47.\n",
      " 152.  42. 216. 241. 221. 113. 147. 239. 217. 211. 140.  73.  78. 236.\n",
      " 180.  60. 191.]\n"
     ]
    }
   ],
   "source": [
    "print (\"wind speed:\", sorted(energy[\"wind_speed\"].unique()))\n",
    "print (\"cloud coverage:\", sorted(energy[\"cloud_coverage\"].unique()))\n",
    "print (\"precip depth:\", sorted(energy[\"precip_depth_1_hr\"].unique()))"
   ]
  },
  {
   "cell_type": "markdown",
   "metadata": {},
   "source": [
    "### Приведение к целым типам\n",
    "DataFrame.fillna() -для заполнения NA/NaN используй это значения или метод"
   ]
  },
  {
   "cell_type": "code",
   "execution_count": 11,
   "metadata": {},
   "outputs": [],
   "source": [
    "def round_fillna (df, columns):\n",
    "    for col in columns:\n",
    "        type_ = \"int8\"\n",
    "        if col in [\"wind_direction\", \"year_built\", \"precip_depth_1_hr\"]:\n",
    "            type_ = \"int16\"\n",
    "        if col == \"precip_depth_1_hr\":\n",
    "            df[col] = df[col].apply(lambda x:0 if x<0 else x)\n",
    "        df[col] = np.round(df[col].fillna(value=0)).astype(type_)\n",
    "    return df"
   ]
  },
  {
   "cell_type": "code",
   "execution_count": 14,
   "metadata": {},
   "outputs": [
    {
     "name": "stdout",
     "output_type": "stream",
     "text": [
      "<class 'pandas.core.frame.DataFrame'>\n",
      "RangeIndex: 12060910 entries, 0 to 12060909\n",
      "Data columns (total 14 columns):\n",
      " #   Column              Dtype         \n",
      "---  ------              -----         \n",
      " 0   timestamp           datetime64[ns]\n",
      " 1   building_id         int16         \n",
      " 2   meter_reading       float32       \n",
      " 3   primary_use         category      \n",
      " 4   square_feet         int32         \n",
      " 5   year_built          int16         \n",
      " 6   floor_count         int8          \n",
      " 7   air_temperature     float16       \n",
      " 8   cloud_coverage      int8          \n",
      " 9   dew_temperature     float16       \n",
      " 10  precip_depth_1_hr   int16         \n",
      " 11  sea_level_pressure  float16       \n",
      " 12  wind_direction      int16         \n",
      " 13  wind_speed          int8          \n",
      "dtypes: category(1), datetime64[ns](1), float16(3), float32(1), int16(4), int32(1), int8(3)\n",
      "memory usage: 391.1 MB\n",
      "None\n"
     ]
    }
   ],
   "source": [
    "energy = round_fillna(energy,[\"wind_direction\", \"year_built\", \"precip_depth_1_hr\", \"cloud_coverage\", \n",
    "                              \"wind_speed\",\"floor_count\"])\n",
    "print(energy.info())"
   ]
  },
  {
   "cell_type": "markdown",
   "metadata": {},
   "source": [
    "# Удаление обработанных данных"
   ]
  },
  {
   "cell_type": "code",
   "execution_count": 17,
   "metadata": {},
   "outputs": [],
   "source": [
    "del buildings\n",
    "del weather\n",
    "del energy"
   ]
  },
  {
   "cell_type": "code",
   "execution_count": null,
   "metadata": {},
   "outputs": [],
   "source": []
  }
 ],
 "metadata": {
  "kernelspec": {
   "display_name": "Python 3",
   "language": "python",
   "name": "python3"
  },
  "language_info": {
   "codemirror_mode": {
    "name": "ipython",
    "version": 3
   },
   "file_extension": ".py",
   "mimetype": "text/x-python",
   "name": "python",
   "nbconvert_exporter": "python",
   "pygments_lexer": "ipython3",
   "version": "3.8.10"
  }
 },
 "nbformat": 4,
 "nbformat_minor": 2
}
