{
 "cells": [
  {
   "cell_type": "code",
   "execution_count": 1,
   "id": "30ec85ff-f253-4f04-9466-bbea9c9857cc",
   "metadata": {},
   "outputs": [
    {
     "name": "stdout",
     "output_type": "stream",
     "text": [
      "[[], [], [], [], [], [], [], [], [], []]\n"
     ]
    }
   ],
   "source": [
    "serv_list = [[]]*10\n",
    "print(serv_list)"
   ]
  },
  {
   "cell_type": "code",
   "execution_count": 2,
   "id": "8424177f-7b92-45d7-86aa-45202916203b",
   "metadata": {},
   "outputs": [
    {
     "name": "stdout",
     "output_type": "stream",
     "text": [
      "[145, [], [], [], [], [], [], [], [], []]\n"
     ]
    }
   ],
   "source": [
    "serv_list[0] = 145\n",
    "print(serv_list)"
   ]
  },
  {
   "cell_type": "code",
   "execution_count": null,
   "id": "cff4a39d-d737-4cd1-a005-385b477f7037",
   "metadata": {},
   "outputs": [],
   "source": []
  }
 ],
 "metadata": {
  "kernelspec": {
   "display_name": "Python 3 (ipykernel)",
   "language": "python",
   "name": "python3"
  },
  "language_info": {
   "codemirror_mode": {
    "name": "ipython",
    "version": 3
   },
   "file_extension": ".py",
   "mimetype": "text/x-python",
   "name": "python",
   "nbconvert_exporter": "python",
   "pygments_lexer": "ipython3",
   "version": "3.10.12"
  }
 },
 "nbformat": 4,
 "nbformat_minor": 5
}
