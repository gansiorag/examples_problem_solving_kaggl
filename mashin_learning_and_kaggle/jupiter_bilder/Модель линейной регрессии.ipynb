{
 "cells": [
  {
   "cell_type": "markdown",
   "metadata": {},
   "source": [
    "# Модель линейной регрессии\n",
    "Данные <br>\n",
    "http://video.ittensive.com/machine-learning/ashrae/building_metadata.csv.gz <br>\n",
    "http://video.ittensive.com/machine-learning/ashrae/weather_train.csv.gz <br>  \n",
    "http://video.ittensive.com/machine-learning/ashrae/train.0.0.csv.gz    "
   ]
  },
  {
   "cell_type": "code",
   "execution_count": 1,
   "metadata": {},
   "outputs": [],
   "source": [
    "%matplotlib inline\n",
    "import numpy as np\n",
    "import pandas as pd\n",
    "from sklearn import linear_model \n",
    "import matplotlib.pyplot as plt\n",
    "from matplotlib.pyplot import rcParams\n",
    "rcParams['figure.figsize'] = 16, 8"
   ]
  },
  {
   "cell_type": "code",
   "execution_count": 2,
   "metadata": {},
   "outputs": [
    {
     "name": "stdout",
     "output_type": "stream",
     "text": [
      "   site_id  building_id primary_use  square_feet  year_built  floor_count\n",
      "0        0            0   Education         7432      2008.0          NaN\n",
      "1        0            1   Education         2720      2004.0          NaN\n",
      "2        0            2   Education         5376      1991.0          NaN\n",
      "3        0            3   Education        23685      2002.0          NaN\n",
      "4        0            4   Education       116607      1975.0          NaN\n"
     ]
    }
   ],
   "source": [
    "# загрузка с локаьного компьютера\n",
    "full_path = \"/home/al/PycharmProjects/examples_problem_solving_kaggl/mashin_learning_and_kaggle/jupiter_bilder/\"\n",
    "buildings = pd.read_csv(full_path + \"building_metadata.csv\")\n",
    "print (buildings.head())"
   ]
  },
  {
   "cell_type": "code",
   "execution_count": 3,
   "metadata": {},
   "outputs": [
    {
     "name": "stdout",
     "output_type": "stream",
     "text": [
      "   site_id            timestamp  air_temperature  cloud_coverage  \\\n",
      "0        0  2016-01-01 00:00:00             25.0             6.0   \n",
      "1        0  2016-01-01 01:00:00             24.4             NaN   \n",
      "2        0  2016-01-01 02:00:00             22.8             2.0   \n",
      "3        0  2016-01-01 03:00:00             21.1             2.0   \n",
      "4        0  2016-01-01 04:00:00             20.0             2.0   \n",
      "\n",
      "   dew_temperature  precip_depth_1_hr  sea_level_pressure  wind_direction  \\\n",
      "0             20.0                NaN              1019.7             0.0   \n",
      "1             21.1               -1.0              1020.2            70.0   \n",
      "2             21.1                0.0              1020.2             0.0   \n",
      "3             20.6                0.0              1020.1             0.0   \n",
      "4             20.0               -1.0              1020.0           250.0   \n",
      "\n",
      "   wind_speed  \n",
      "0         0.0  \n",
      "1         1.5  \n",
      "2         0.0  \n",
      "3         0.0  \n",
      "4         2.6  \n"
     ]
    }
   ],
   "source": [
    "weather = pd.read_csv(full_path + \"weather_train.csv\")\n",
    "print (weather.head())"
   ]
  },
  {
   "cell_type": "code",
   "execution_count": 4,
   "metadata": {},
   "outputs": [
    {
     "name": "stdout",
     "output_type": "stream",
     "text": [
      "   building_id  meter            timestamp  meter_reading\n",
      "0            0      0  2016-01-01 00:00:00            0.0\n",
      "1            1      0  2016-01-01 00:00:00            0.0\n",
      "2            2      0  2016-01-01 00:00:00            0.0\n",
      "3            3      0  2016-01-01 00:00:00            0.0\n",
      "4            4      0  2016-01-01 00:00:00            0.0\n"
     ]
    }
   ],
   "source": [
    "energy_0 = pd.read_csv(full_path + \"train.csv\")\n",
    "print (energy_0.head())"
   ]
  },
  {
   "cell_type": "code",
   "execution_count": 5,
   "metadata": {},
   "outputs": [
    {
     "name": "stdout",
     "output_type": "stream",
     "text": [
      "   building_id  meter            timestamp  meter_reading  site_id  \\\n",
      "0            0      0  2016-01-01 00:00:00            0.0        0   \n",
      "1            1      0  2016-01-01 00:00:00            0.0        0   \n",
      "2            2      0  2016-01-01 00:00:00            0.0        0   \n",
      "3            3      0  2016-01-01 00:00:00            0.0        0   \n",
      "4            4      0  2016-01-01 00:00:00            0.0        0   \n",
      "\n",
      "  primary_use  square_feet  year_built  floor_count  \n",
      "0   Education         7432      2008.0          NaN  \n",
      "1   Education         2720      2004.0          NaN  \n",
      "2   Education         5376      1991.0          NaN  \n",
      "3   Education        23685      2002.0          NaN  \n",
      "4   Education       116607      1975.0          NaN  \n"
     ]
    }
   ],
   "source": [
    "energy_0 = pd.merge(left=energy_0, right=buildings, how=\"left\",\n",
    "                   left_on=\"building_id\", right_on=\"building_id\")\n",
    "print (energy_0.head())"
   ]
  },
  {
   "cell_type": "code",
   "execution_count": 6,
   "metadata": {},
   "outputs": [
    {
     "name": "stdout",
     "output_type": "stream",
     "text": [
      "             timestamp  site_id  building_id  meter  meter_reading  \\\n",
      "0  2016-01-01 00:00:00        0            0      0            0.0   \n",
      "1  2016-01-01 00:00:00        0            1      0            0.0   \n",
      "2  2016-01-01 00:00:00        0            2      0            0.0   \n",
      "3  2016-01-01 00:00:00        0            3      0            0.0   \n",
      "4  2016-01-01 00:00:00        0            4      0            0.0   \n",
      "\n",
      "  primary_use  square_feet  year_built  floor_count  air_temperature  \\\n",
      "0   Education         7432      2008.0          NaN             25.0   \n",
      "1   Education         2720      2004.0          NaN             25.0   \n",
      "2   Education         5376      1991.0          NaN             25.0   \n",
      "3   Education        23685      2002.0          NaN             25.0   \n",
      "4   Education       116607      1975.0          NaN             25.0   \n",
      "\n",
      "   cloud_coverage  dew_temperature  precip_depth_1_hr  sea_level_pressure  \\\n",
      "0             6.0             20.0                NaN              1019.7   \n",
      "1             6.0             20.0                NaN              1019.7   \n",
      "2             6.0             20.0                NaN              1019.7   \n",
      "3             6.0             20.0                NaN              1019.7   \n",
      "4             6.0             20.0                NaN              1019.7   \n",
      "\n",
      "   wind_direction  wind_speed  \n",
      "0             0.0         0.0  \n",
      "1             0.0         0.0  \n",
      "2             0.0         0.0  \n",
      "3             0.0         0.0  \n",
      "4             0.0         0.0  \n"
     ]
    }
   ],
   "source": [
    "energy_0.set_index([\"timestamp\", \"site_id\"], inplace=True)\n",
    "weather.set_index([\"timestamp\", \"site_id\"], inplace=True)\n",
    "energy_0 = pd.merge(left=energy_0, right=weather, how=\"left\", left_index=True, right_index=True)\n",
    "energy_0.reset_index(inplace=True)\n",
    "print (energy_0.head())"
   ]
  },
  {
   "cell_type": "code",
   "execution_count": 7,
   "metadata": {},
   "outputs": [
    {
     "name": "stdout",
     "output_type": "stream",
     "text": [
      "<class 'pandas.core.frame.DataFrame'>\n",
      "RangeIndex: 20216100 entries, 0 to 20216099\n",
      "Data columns (total 16 columns):\n",
      " #   Column              Dtype  \n",
      "---  ------              -----  \n",
      " 0   timestamp           object \n",
      " 1   site_id             int64  \n",
      " 2   building_id         int64  \n",
      " 3   meter               int64  \n",
      " 4   meter_reading       float64\n",
      " 5   primary_use         object \n",
      " 6   square_feet         int64  \n",
      " 7   year_built          float64\n",
      " 8   floor_count         float64\n",
      " 9   air_temperature     float64\n",
      " 10  cloud_coverage      float64\n",
      " 11  dew_temperature     float64\n",
      " 12  precip_depth_1_hr   float64\n",
      " 13  sea_level_pressure  float64\n",
      " 14  wind_direction      float64\n",
      " 15  wind_speed          float64\n",
      "dtypes: float64(10), int64(4), object(2)\n",
      "memory usage: 2.4+ GB\n"
     ]
    }
   ],
   "source": [
    "energy_0[\"air_temperature\"].fillna(0, inplace=True)\n",
    "energy_0[\"cloud_coverage\"].fillna(0, inplace=True)\n",
    "energy_0[\"dew_temperature\"].fillna(0, inplace=True)\n",
    "energy_0[\"precip_depth_1_hr\"] = energy_0[\"precip_depth_1_hr\"].apply(lambda x:x if x>0 else 0)\n",
    "energy_0_sea_level_pressure_mean = energy_0[\"sea_level_pressure\"].mean()\n",
    "energy_0[\"sea_level_pressure\"] = energy_0[\"sea_level_pressure\"].apply(lambda x:energy_0_sea_level_pressure_mean if x!=x else x)\n",
    "energy_0_wind_direction_mean = energy_0[\"wind_direction\"].mean()\n",
    "energy_0[\"wind_direction\"] = energy_0[\"wind_direction\"].apply(lambda x:energy_0_wind_direction_mean if x!=x else x)\n",
    "energy_0.info()"
   ]
  },
  {
   "cell_type": "code",
   "execution_count": 8,
   "metadata": {},
   "outputs": [
    {
     "name": "stdout",
     "output_type": "stream",
     "text": [
      "<class 'pandas.core.frame.DataFrame'>\n",
      "Int64Index: 8784 entries, 0 to 20213734\n",
      "Data columns (total 16 columns):\n",
      " #   Column              Non-Null Count  Dtype  \n",
      "---  ------              --------------  -----  \n",
      " 0   timestamp           8784 non-null   object \n",
      " 1   site_id             8784 non-null   int64  \n",
      " 2   building_id         8784 non-null   int64  \n",
      " 3   meter               8784 non-null   int64  \n",
      " 4   meter_reading       8784 non-null   float64\n",
      " 5   primary_use         8784 non-null   object \n",
      " 6   square_feet         8784 non-null   int64  \n",
      " 7   year_built          8784 non-null   float64\n",
      " 8   floor_count         0 non-null      float64\n",
      " 9   air_temperature     8784 non-null   float64\n",
      " 10  cloud_coverage      8784 non-null   float64\n",
      " 11  dew_temperature     8784 non-null   float64\n",
      " 12  precip_depth_1_hr   8784 non-null   float64\n",
      " 13  sea_level_pressure  8784 non-null   float64\n",
      " 14  wind_direction      8784 non-null   float64\n",
      " 15  wind_speed          8784 non-null   float64\n",
      "dtypes: float64(10), int64(4), object(2)\n",
      "memory usage: 1.1+ MB\n",
      "None\n"
     ]
    }
   ],
   "source": [
    "# создаем массив только для здания с id = 0\n",
    "energy_build_0 = energy_0.loc[energy_0['building_id'] == 0]\n",
    "print (energy_build_0.info())"
   ]
  },
  {
   "cell_type": "code",
   "execution_count": 9,
   "metadata": {},
   "outputs": [
    {
     "name": "stdout",
     "output_type": "stream",
     "text": [
      "<class 'pandas.core.frame.DataFrame'>\n",
      "Int64Index: 8784 entries, 0 to 20213734\n",
      "Data columns (total 17 columns):\n",
      " #   Column              Non-Null Count  Dtype         \n",
      "---  ------              --------------  -----         \n",
      " 0   timestamp           8784 non-null   datetime64[ns]\n",
      " 1   site_id             8784 non-null   int64         \n",
      " 2   building_id         8784 non-null   int64         \n",
      " 3   meter               8784 non-null   int64         \n",
      " 4   meter_reading       8784 non-null   float64       \n",
      " 5   primary_use         8784 non-null   object        \n",
      " 6   square_feet         8784 non-null   int64         \n",
      " 7   year_built          8784 non-null   float64       \n",
      " 8   floor_count         0 non-null      float64       \n",
      " 9   air_temperature     8784 non-null   float64       \n",
      " 10  cloud_coverage      8784 non-null   float64       \n",
      " 11  dew_temperature     8784 non-null   float64       \n",
      " 12  precip_depth_1_hr   8784 non-null   float64       \n",
      " 13  sea_level_pressure  8784 non-null   float64       \n",
      " 14  wind_direction      8784 non-null   float64       \n",
      " 15  wind_speed          8784 non-null   float64       \n",
      " 16  hour                8784 non-null   int64         \n",
      "dtypes: datetime64[ns](1), float64(10), int64(5), object(1)\n",
      "memory usage: 1.2+ MB\n",
      "None\n"
     ]
    },
    {
     "name": "stderr",
     "output_type": "stream",
     "text": [
      "<ipython-input-9-ef7af3ef2549>:1: SettingWithCopyWarning: \n",
      "A value is trying to be set on a copy of a slice from a DataFrame.\n",
      "Try using .loc[row_indexer,col_indexer] = value instead\n",
      "\n",
      "See the caveats in the documentation: https://pandas.pydata.org/pandas-docs/stable/user_guide/indexing.html#returning-a-view-versus-a-copy\n",
      "  energy_build_0[\"timestamp\"] = pd.to_datetime(energy_build_0[\"timestamp\"])\n",
      "<ipython-input-9-ef7af3ef2549>:2: SettingWithCopyWarning: \n",
      "A value is trying to be set on a copy of a slice from a DataFrame.\n",
      "Try using .loc[row_indexer,col_indexer] = value instead\n",
      "\n",
      "See the caveats in the documentation: https://pandas.pydata.org/pandas-docs/stable/user_guide/indexing.html#returning-a-view-versus-a-copy\n",
      "  energy_build_0[\"hour\"] = energy_build_0[\"timestamp\"].dt.hour\n"
     ]
    }
   ],
   "source": [
    "energy_build_0[\"timestamp\"] = pd.to_datetime(energy_build_0[\"timestamp\"])\n",
    "energy_build_0[\"hour\"] = energy_build_0[\"timestamp\"].dt.hour\n",
    "print (energy_build_0.info())"
   ]
  },
  {
   "cell_type": "code",
   "execution_count": 10,
   "metadata": {},
   "outputs": [],
   "source": [
    "from sklearn.model_selection import train_test_split"
   ]
  },
  {
   "cell_type": "code",
   "execution_count": 11,
   "metadata": {},
   "outputs": [],
   "source": [
    "train, test = train_test_split(energy_build_0, test_size=0.2)"
   ]
  },
  {
   "cell_type": "code",
   "execution_count": 12,
   "metadata": {},
   "outputs": [],
   "source": [
    "ish_data = train[['hour', 'air_temperature', 'dew_temperature', 'sea_level_pressure', 'wind_speed', 'cloud_coverage']].to_numpy()"
   ]
  },
  {
   "cell_type": "code",
   "execution_count": 13,
   "metadata": {},
   "outputs": [
    {
     "data": {
      "text/plain": [
       "LinearRegression()"
      ]
     },
     "execution_count": 13,
     "metadata": {},
     "output_type": "execute_result"
    }
   ],
   "source": [
    "reg = linear_model.LinearRegression()\n",
    "reg.fit(ish_data, train['meter_reading'].to_list())"
   ]
  },
  {
   "cell_type": "code",
   "execution_count": 14,
   "metadata": {},
   "outputs": [
    {
     "name": "stdout",
     "output_type": "stream",
     "text": [
      "[-0.8348427   5.37043316  8.51688764  4.83150057 -2.60656031 -1.07430021]\n"
     ]
    }
   ],
   "source": [
    "print(reg.coef_)"
   ]
  },
  {
   "cell_type": "code",
   "execution_count": 18,
   "metadata": {},
   "outputs": [],
   "source": [
    "ish_test = test[['hour', 'air_temperature', 'dew_temperature', 'sea_level_pressure', 'wind_speed', 'cloud_coverage']].to_numpy()"
   ]
  },
  {
   "cell_type": "code",
   "execution_count": 22,
   "metadata": {},
   "outputs": [],
   "source": [
    "from sklearn.metrics import mean_squared_error"
   ]
  },
  {
   "cell_type": "code",
   "execution_count": 23,
   "metadata": {},
   "outputs": [
    {
     "name": "stdout",
     "output_type": "stream",
     "text": [
      "9080.41425187495\n"
     ]
    }
   ],
   "source": [
    "print(mean_squared_error(reg.predict(ish_test),test['meter_reading'].to_list()))"
   ]
  },
  {
   "cell_type": "code",
   "execution_count": 24,
   "metadata": {},
   "outputs": [],
   "source": [
    "from sklearn.metrics import mean_squared_log_error"
   ]
  },
  {
   "cell_type": "code",
   "execution_count": 25,
   "metadata": {},
   "outputs": [
    {
     "name": "stdout",
     "output_type": "stream",
     "text": [
      "8.274390681687134\n"
     ]
    }
   ],
   "source": [
    "print(mean_squared_log_error(abs(reg.predict(ish_test)),test['meter_reading'].to_list()))"
   ]
  },
  {
   "cell_type": "code",
   "execution_count": null,
   "metadata": {},
   "outputs": [],
   "source": []
  }
 ],
 "metadata": {
  "kernelspec": {
   "display_name": "Python 3",
   "language": "python",
   "name": "python3"
  },
  "language_info": {
   "codemirror_mode": {
    "name": "ipython",
    "version": 3
   },
   "file_extension": ".py",
   "mimetype": "text/x-python",
   "name": "python",
   "nbconvert_exporter": "python",
   "pygments_lexer": "ipython3",
   "version": "3.8.10"
  }
 },
 "nbformat": 4,
 "nbformat_minor": 4
}
