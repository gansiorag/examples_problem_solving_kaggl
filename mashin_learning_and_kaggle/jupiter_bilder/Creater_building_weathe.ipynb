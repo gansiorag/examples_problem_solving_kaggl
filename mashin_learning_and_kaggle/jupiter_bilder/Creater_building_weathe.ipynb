{
 "cells": [
  {
   "cell_type": "markdown",
   "metadata": {},
   "source": [
    "# Постановка задачи и описание данных\n",
    "\n",
    "* Всего 3 набора данных: (1) building_metadata, (2) train и (3) weather_train\n",
    "(1) содержит building_id, для которого есть данные (2)\n",
    "(1) содержит site_id, для которого есть данные (3)\n",
    "\n",
    "Нужно объединить все наборы данных по  building_id, site_id и timestamp\n",
    "\n",
    "ETL = получение + очистка + совмещение данных\n",
    "\n",
    "## Данные:\n",
    "### Директория где находятся исходные данные \n",
    "/home/al/PycharmProjects/examples_problem_solving_kaggl/mashin_learning_and_kaggle/jupiter_bilder/source_data/<br>\n",
    "\n",
    "### сами данные: \n",
    "train.csv - данные по энергопотреблению <br>\n",
    "\n",
    "building_metadata.csv - данные по зданиям<br>\n",
    "\n",
    "weather_train.csv - данные о погоде <br>\n",
    "\n",
    "\n",
    "## Соревнование:\n",
    "https://www.kaggle.com/c/ashrae-energy-prediction/\n",
    "\n",
    "## Подключение библиотек"
   ]
  },
  {
   "cell_type": "code",
   "execution_count": 1,
   "metadata": {},
   "outputs": [],
   "source": [
    "%matplotlib inline\n",
    "import pandas as pd\n",
    "import matplotlib.pyplot as plt\n",
    "from matplotlib.pyplot import rcParams\n",
    "rcParams['figure.figsize'] = 16,8"
   ]
  },
  {
   "cell_type": "markdown",
   "metadata": {},
   "source": [
    "### Загрузка данных: здания\n",
    "\n",
    "* primary_use - назначение\n",
    "* square_feet - площадь, кв.футы\n",
    "* year_built - год постройки\n",
    "* floor_count - число этажей\n"
   ]
  },
  {
   "cell_type": "code",
   "execution_count": 2,
   "metadata": {},
   "outputs": [
    {
     "name": "stdout",
     "output_type": "stream",
     "text": [
      "   site_id  building_id primary_use  square_feet  year_built  floor_count\n",
      "0        0            0   Education         7432      2008.0          NaN\n",
      "1        0            1   Education         2720      2004.0          NaN\n",
      "2        0            2   Education         5376      1991.0          NaN\n",
      "3        0            3   Education        23685      2002.0          NaN\n",
      "4        0            4   Education       116607      1975.0          NaN\n"
     ]
    }
   ],
   "source": [
    "ish_dir = '/home/al/PycharmProjects/examples_problem_solving_kaggl/mashin_learning_and_kaggle/jupiter_bilder/source_data/'\n",
    "buildings = pd.read_csv(ish_dir + \"building_metadata.csv\")\n",
    "print(buildings.head())"
   ]
  },
  {
   "cell_type": "markdown",
   "metadata": {},
   "source": [
    "## Загрузка данны: погода\n",
    "\n",
    "* air_temprature - температура воздуха, С\n",
    "* dew_temperature - точка рсы (влажность), С\n",
    "* cloud_coverage - облачность, %\n",
    "* precip_depth_1_hr - количество осадков, мм/час\n",
    "* sea_level_pressure - давление, мбар\n",
    "* wind_direction - направление ветра, градусы\n",
    "* wind_speed - скорость ветра, м/с"
   ]
  },
  {
   "cell_type": "code",
   "execution_count": 24,
   "metadata": {},
   "outputs": [
    {
     "name": "stdout",
     "output_type": "stream",
     "text": [
      "   site_id            timestamp  air_temperature  cloud_coverage  \\\n",
      "0        0  2016-01-01 00:00:00             25.0             6.0   \n",
      "1        0  2016-01-01 01:00:00             24.4             NaN   \n",
      "2        0  2016-01-01 02:00:00             22.8             2.0   \n",
      "3        0  2016-01-01 03:00:00             21.1             2.0   \n",
      "4        0  2016-01-01 04:00:00             20.0             2.0   \n",
      "\n",
      "   dew_temperature  precip_depth_1_hr  sea_level_pressure  wind_direction  \\\n",
      "0             20.0                NaN              1019.7             0.0   \n",
      "1             21.1               -1.0              1020.2            70.0   \n",
      "2             21.1                0.0              1020.2             0.0   \n",
      "3             20.6                0.0              1020.1             0.0   \n",
      "4             20.0               -1.0              1020.0           250.0   \n",
      "\n",
      "   wind_speed  \n",
      "0         0.0  \n",
      "1         1.5  \n",
      "2         0.0  \n",
      "3         0.0  \n",
      "4         2.6  \n"
     ]
    }
   ],
   "source": [
    "weather = pd.read_csv(\"/home/al/PycharmProjects/mashine_learn_Kagle/jupiter_bilder/weather_train.csv\")\n",
    "print(weather.head())"
   ]
  },
  {
   "cell_type": "markdown",
   "metadata": {},
   "source": [
    "## Загрузка данных: потребление энергии здания 0\n",
    "- meter_reading - знаение показателя (TOE, эквивалент тонн нефти)"
   ]
  },
  {
   "cell_type": "code",
   "execution_count": 25,
   "metadata": {
    "scrolled": true
   },
   "outputs": [
    {
     "name": "stdout",
     "output_type": "stream",
     "text": [
      "   building_id  meter            timestamp  meter_reading\n",
      "0            0      0  2016-01-01 00:00:00            0.0\n",
      "1            1      0  2016-01-01 00:00:00            0.0\n",
      "2            2      0  2016-01-01 00:00:00            0.0\n",
      "3            3      0  2016-01-01 00:00:00            0.0\n",
      "4            4      0  2016-01-01 00:00:00            0.0\n"
     ]
    },
    {
     "name": "stderr",
     "output_type": "stream",
     "text": [
      "/home/al/.local/lib/python3.8/site-packages/pandas/plotting/_matplotlib/core.py:1192: UserWarning: FixedFormatter should only be used together with FixedLocator\n",
      "  ax.set_xticklabels(xticklabels)\n"
     ]
    },
    {
     "data": {
      "image/png": "[encoded data removed]",
      "text/plain": [
       "<Figure size 1152x576 with 1 Axes>"
      ]
     },
     "metadata": {
      "needs_background": "light"
     },
     "output_type": "display_data"
    }
   ],
   "source": [
    "energy_0 = pd.read_csv(\"/home/al/PycharmProjects/mashine_learn_Kagle/jupiter_bilder/train.csv\")\n",
    "print(energy_0.head())\n",
    "energy_0.set_index(\"timestamp\")[\"meter_reading\"].plot()\n",
    "plt.show()"
   ]
  },
  {
   "cell_type": "markdown",
   "metadata": {},
   "source": [
    "##  Объединение потребления энергии и информации о здании\n",
    "\n",
    "Проводим объединение по build_id"
   ]
  },
  {
   "cell_type": "code",
   "execution_count": 26,
   "metadata": {},
   "outputs": [
    {
     "name": "stdout",
     "output_type": "stream",
     "text": [
      "   building_id  meter            timestamp  meter_reading  site_id  \\\n",
      "0            0      0  2016-01-01 00:00:00            0.0        0   \n",
      "1            1      0  2016-01-01 00:00:00            0.0        0   \n",
      "2            2      0  2016-01-01 00:00:00            0.0        0   \n",
      "3            3      0  2016-01-01 00:00:00            0.0        0   \n",
      "4            4      0  2016-01-01 00:00:00            0.0        0   \n",
      "\n",
      "  primary_use  square_feet  year_built  floor_count  \n",
      "0   Education         7432      2008.0          NaN  \n",
      "1   Education         2720      2004.0          NaN  \n",
      "2   Education         5376      1991.0          NaN  \n",
      "3   Education        23685      2002.0          NaN  \n",
      "4   Education       116607      1975.0          NaN  \n"
     ]
    }
   ],
   "source": [
    "energy_0 = pd.merge(left=energy_0, right=buildings, how=\"left\",\n",
    "                   left_on=\"building_id\", right_on=\"building_id\")\n",
    "print (energy_0.head())"
   ]
  },
  {
   "cell_type": "markdown",
   "metadata": {},
   "source": [
    "## Объединение потребления энергии и погоды\n",
    "\n",
    "Выставим индексы для объединения - timestamp, site_id\n"
   ]
  },
  {
   "cell_type": "code",
   "execution_count": 27,
   "metadata": {},
   "outputs": [],
   "source": [
    "energy_0.set_index([\"timestamp\", \"site_id\"], inplace=True)\n",
    "weather.set_index([\"timestamp\", \"site_id\"], inplace=True)"
   ]
  },
  {
   "cell_type": "markdown",
   "metadata": {},
   "source": [
    "\n",
    "Проведем объединение и сбросим индексы\n"
   ]
  },
  {
   "cell_type": "code",
   "execution_count": 28,
   "metadata": {},
   "outputs": [
    {
     "name": "stdout",
     "output_type": "stream",
     "text": [
      "             timestamp  site_id  building_id  meter  meter_reading  \\\n",
      "0  2016-01-01 00:00:00        0            0      0            0.0   \n",
      "1  2016-01-01 00:00:00        0            1      0            0.0   \n",
      "2  2016-01-01 00:00:00        0            2      0            0.0   \n",
      "3  2016-01-01 00:00:00        0            3      0            0.0   \n",
      "4  2016-01-01 00:00:00        0            4      0            0.0   \n",
      "\n",
      "  primary_use  square_feet  year_built  floor_count  air_temperature  \\\n",
      "0   Education         7432      2008.0          NaN             25.0   \n",
      "1   Education         2720      2004.0          NaN             25.0   \n",
      "2   Education         5376      1991.0          NaN             25.0   \n",
      "3   Education        23685      2002.0          NaN             25.0   \n",
      "4   Education       116607      1975.0          NaN             25.0   \n",
      "\n",
      "   cloud_coverage  dew_temperature  precip_depth_1_hr  sea_level_pressure  \\\n",
      "0             6.0             20.0                NaN              1019.7   \n",
      "1             6.0             20.0                NaN              1019.7   \n",
      "2             6.0             20.0                NaN              1019.7   \n",
      "3             6.0             20.0                NaN              1019.7   \n",
      "4             6.0             20.0                NaN              1019.7   \n",
      "\n",
      "   wind_direction  wind_speed  \n",
      "0             0.0         0.0  \n",
      "1             0.0         0.0  \n",
      "2             0.0         0.0  \n",
      "3             0.0         0.0  \n",
      "4             0.0         0.0  \n"
     ]
    }
   ],
   "source": [
    "energy_0 = pd.merge(left=energy_0, right=weather, how=\"left\",\n",
    "                   left_index=True, right_index=True)\n",
    "energy_0.reset_index(inplace=True)\n",
    "print (energy_0.head())"
   ]
  },
  {
   "cell_type": "markdown",
   "metadata": {},
   "source": [
    "\n",
    "Нахождение пропущенных данных\n",
    "\n",
    "Посчитаем количество пропусков данных по столбцам\n"
   ]
  },
  {
   "cell_type": "code",
   "execution_count": 29,
   "metadata": {},
   "outputs": [
    {
     "name": "stdout",
     "output_type": "stream",
     "text": [
      "year_built: 12127645\n",
      "floor_count: 16709167\n",
      "air_temperature: 96658\n",
      "cloud_coverage: 8825365\n",
      "dew_temperature: 100140\n",
      "precip_depth_1_hr: 3749023\n",
      "sea_level_pressure: 1231669\n",
      "wind_direction: 1449048\n",
      "wind_speed: 143676\n",
      "                    timestamp  site_id  building_id  meter  meter_reading  \\\n",
      "0         2016-01-01 00:00:00        0            0      0          0.000   \n",
      "1         2016-01-01 00:00:00        0            1      0          0.000   \n",
      "2         2016-01-01 00:00:00        0            2      0          0.000   \n",
      "3         2016-01-01 00:00:00        0            3      0          0.000   \n",
      "4         2016-01-01 00:00:00        0            4      0          0.000   \n",
      "...                       ...      ...          ...    ...            ...   \n",
      "20215251  2016-12-31 23:00:00       12         1064      0        153.847   \n",
      "20215252  2016-12-31 23:00:00       12         1065      0          5.215   \n",
      "20215253  2016-12-31 23:00:00       12         1066      0         25.890   \n",
      "20215254  2016-12-31 23:00:00       12         1067      0        231.018   \n",
      "20215255  2016-12-31 23:00:00       12         1068      0         56.375   \n",
      "\n",
      "         primary_use  square_feet  year_built  floor_count  air_temperature  \\\n",
      "0          Education         7432      2008.0          NaN             25.0   \n",
      "1          Education         2720      2004.0          NaN             25.0   \n",
      "2          Education         5376      1991.0          NaN             25.0   \n",
      "3          Education        23685      2002.0          NaN             25.0   \n",
      "4          Education       116607      1975.0          NaN             25.0   \n",
      "...              ...          ...         ...          ...              ...   \n",
      "20215251   Education       131212         NaN          NaN              6.5   \n",
      "20215252      Office        12152         NaN          NaN              6.5   \n",
      "20215253   Education        55800         NaN          NaN              6.5   \n",
      "20215254   Education       125701         NaN          NaN              6.5   \n",
      "20215255   Education       112956         NaN          NaN              6.5   \n",
      "\n",
      "          cloud_coverage  dew_temperature  precip_depth_1_hr  \\\n",
      "0                    6.0             20.0                NaN   \n",
      "1                    6.0             20.0                NaN   \n",
      "2                    6.0             20.0                NaN   \n",
      "3                    6.0             20.0                NaN   \n",
      "4                    6.0             20.0                NaN   \n",
      "...                  ...              ...                ...   \n",
      "20215251             8.0              5.3                NaN   \n",
      "20215252             8.0              5.3                NaN   \n",
      "20215253             8.0              5.3                NaN   \n",
      "20215254             8.0              5.3                NaN   \n",
      "20215255             8.0              5.3                NaN   \n",
      "\n",
      "          sea_level_pressure  wind_direction  wind_speed  \n",
      "0                     1019.7             0.0         0.0  \n",
      "1                     1019.7             0.0         0.0  \n",
      "2                     1019.7             0.0         0.0  \n",
      "3                     1019.7             0.0         0.0  \n",
      "4                     1019.7             0.0         0.0  \n",
      "...                      ...             ...         ...  \n",
      "20215251              1019.5           340.0         6.0  \n",
      "20215252              1019.5           340.0         6.0  \n",
      "20215253              1019.5           340.0         6.0  \n",
      "20215254              1019.5           340.0         6.0  \n",
      "20215255              1019.5           340.0         6.0  \n",
      "\n",
      "[3749023 rows x 16 columns]\n"
     ]
    }
   ],
   "source": [
    "for column in energy_0.columns:\n",
    "    energy_nulls = energy_0[column].isnull().sum()\n",
    "    if energy_nulls > 0:\n",
    "        print (column + \": \" + str(energy_nulls))\n",
    "print (energy_0[energy_0[\"precip_depth_1_hr\"].isnull()])"
   ]
  },
  {
   "cell_type": "markdown",
   "metadata": {},
   "source": [
    "\n",
    "Заполнение пропущенных данных\n",
    "\n",
    "    air_temperature: NaN -> 0\n",
    "    cloud_coverage: NaN -> 0\n",
    "    dew_temperature: NaN -> 0\n",
    "    precip_depth_1_hr: NaN -> 0, -1 -> 0\n",
    "    sea_level_pressure: NaN -> среднее\n",
    "    wind_direction: NaN -> среднее (роза ветров)\n",
    "\n"
   ]
  },
  {
   "cell_type": "code",
   "execution_count": 30,
   "metadata": {},
   "outputs": [
    {
     "name": "stdout",
     "output_type": "stream",
     "text": [
      "<class 'pandas.core.frame.DataFrame'>\n",
      "RangeIndex: 20216100 entries, 0 to 20216099\n",
      "Data columns (total 16 columns):\n",
      " #   Column              Dtype  \n",
      "---  ------              -----  \n",
      " 0   timestamp           object \n",
      " 1   site_id             int64  \n",
      " 2   building_id         int64  \n",
      " 3   meter               int64  \n",
      " 4   meter_reading       float64\n",
      " 5   primary_use         object \n",
      " 6   square_feet         int64  \n",
      " 7   year_built          float64\n",
      " 8   floor_count         float64\n",
      " 9   air_temperature     float64\n",
      " 10  cloud_coverage      float64\n",
      " 11  dew_temperature     float64\n",
      " 12  precip_depth_1_hr   float64\n",
      " 13  sea_level_pressure  float64\n",
      " 14  wind_direction      float64\n",
      " 15  wind_speed          float64\n",
      "dtypes: float64(10), int64(4), object(2)\n",
      "memory usage: 2.4+ GB\n"
     ]
    }
   ],
   "source": [
    "energy_0[\"air_temperature\"].fillna(0, inplace=True)\n",
    "energy_0[\"cloud_coverage\"].fillna(0, inplace=True)\n",
    "energy_0[\"dew_temperature\"].fillna(0, inplace=True)\n",
    "energy_0[\"precip_depth_1_hr\"] = energy_0[\"precip_depth_1_hr\"].apply(lambda x:x if x>0 else 0)\n",
    "energy_0_sea_level_pressure_mean = energy_0[\"sea_level_pressure\"].mean()\n",
    "energy_0[\"sea_level_pressure\"] = energy_0[\"sea_level_pressure\"].apply(lambda x:energy_0_sea_level_pressure_mean if x!=x else x)\n",
    "energy_0_wind_direction_mean = energy_0[\"wind_direction\"].mean()\n",
    "energy_0[\"wind_direction\"] = energy_0[\"wind_direction\"].apply(lambda x:energy_0_wind_direction_mean if x!=x else x)\n",
    "energy_0.info()"
   ]
  },
  {
   "cell_type": "code",
   "execution_count": null,
   "metadata": {},
   "outputs": [],
   "source": []
  }
 ],
 "metadata": {
  "kernelspec": {
   "display_name": "Python 3",
   "language": "python",
   "name": "python3"
  },
  "language_info": {
   "codemirror_mode": {
    "name": "ipython",
    "version": 3
   },
   "file_extension": ".py",
   "mimetype": "text/x-python",
   "name": "python",
   "nbconvert_exporter": "python",
   "pygments_lexer": "ipython3",
   "version": "3.8.10"
  }
 },
 "nbformat": 4,
 "nbformat_minor": 4
}
