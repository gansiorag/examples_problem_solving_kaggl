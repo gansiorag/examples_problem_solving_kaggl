{
 "cells": [
  {
   "cell_type": "markdown",
   "metadata": {},
   "source": [
    "### Постановка задачи\n",
    "Построить простую модель энергопотребления здания по среднему значению, \n",
    "оценить эффективность модели через метрику\n",
    "\\begin{equation}\n",
    "RMSLE = {\\sqrt{\\sum_{i=1}^{n}{(log(p_i+1) - log(a_i+1))^2} \\over n}}.\n",
    "\\end{equation}\n",
    "* n - число наблюдений\n",
    "* log - натуральный логарифм\n",
    "* p_i - вычисленное значение метрики\n",
    "* a_i - заданное значение метрики\n",
    "\n",
    "## Данные:\n",
    "### Директория где находятся исходные данные \n",
    "/home/al/PycharmProjects/examples_problem_solving_kaggl/mashin_learning_and_kaggle/jupiter_bilder/source_data/<br>\n",
    "\n",
    "### сами данные: \n",
    "train.csv - данные по энергопотреблению <br>\n",
    "\n",
    "building_metadata.csv - данные по зданиям<br>\n",
    "\n",
    "weather_train.csv - данные о погоде <br>\n",
    "\n",
    "\n",
    "## Соревнование:\n",
    "https://www.kaggle.com/c/ashrae-energy-prediction/"
   ]
  },
  {
   "cell_type": "markdown",
   "metadata": {},
   "source": [
    "### Загрузка библиотек"
   ]
  },
  {
   "cell_type": "code",
   "execution_count": 1,
   "metadata": {},
   "outputs": [],
   "source": [
    "%matplotlib inline\n",
    "import numpy as np\n",
    "import pandas as pd\n",
    "from sklearn.model_selection import train_test_split\n",
    "import matplotlib.pyplot as plt\n",
    "from matplotlib.pyplot import rcParams\n",
    "rcParams['figure.figsize'] = 16, 8"
   ]
  },
  {
   "cell_type": "markdown",
   "metadata": {},
   "source": [
    "### Загрузка данных\n",
    "Дополнительно сразу отсечем пустые дни и выделим час из значения времени"
   ]
  },
  {
   "cell_type": "code",
   "execution_count": 5,
   "metadata": {},
   "outputs": [
    {
     "name": "stdout",
     "output_type": "stream",
     "text": [
      "         building_id  meter           timestamp  meter_reading  hour\n",
      "1617286            0      0 2016-01-30 08:00:00        43.6839     8\n",
      "1665732            0      0 2016-01-31 05:00:00        37.5408     5\n",
      "1692691            0      0 2016-01-31 17:00:00        52.5571    17\n",
      "5205692            0      0 2016-04-08 14:00:00        59.3827    14\n",
      "6509935            0      0 2016-05-01 19:00:00       448.0000    19\n"
     ]
    }
   ],
   "source": [
    "ish_data = pd.read_csv(\"/home/al/PycharmProjects/examples_problem_solving_kaggl/mashin_learning_and_kaggle/jupiter_bilder/train.csv\")\n",
    "energy_0 = ish_data.loc[ish_data['building_id'] == 0]\n",
    "energy_0 = energy_0[energy_0[\"meter_reading\"] > 0]\n",
    "energy_0[\"timestamp\"] = pd.to_datetime(energy_0[\"timestamp\"])\n",
    "energy_0[\"hour\"] = energy_0[\"timestamp\"].dt.hour\n",
    "print (energy_0.head())"
   ]
  },
  {
   "cell_type": "markdown",
   "metadata": {},
   "source": [
    "### Разделение данных на обучение и проверку\n",
    "Выделим 20% всех данных на проверку, остальные оставим на обучение"
   ]
  },
  {
   "cell_type": "code",
   "execution_count": 6,
   "metadata": {},
   "outputs": [
    {
     "name": "stdout",
     "output_type": "stream",
     "text": [
      "          building_id  meter           timestamp  meter_reading  hour\n",
      "16023341            0      0 2016-10-18 04:00:00        283.945     4\n",
      "11217636            0      0 2016-07-24 11:00:00        297.596    11\n",
      "17703727            0      0 2016-11-17 02:00:00        186.339     2\n",
      "8415486             0      0 2016-06-04 16:00:00        244.357    16\n",
      "15045830            0      0 2016-09-30 21:00:00        246.404    21\n"
     ]
    }
   ],
   "source": [
    "energy_0_train, energy_0_test = train_test_split(energy_0, test_size=0.2)\n",
    "print (energy_0_train.head())"
   ]
  },
  {
   "cell_type": "markdown",
   "metadata": {},
   "source": [
    "### Создадим модели\n",
    "Среднее и медианное значение потребление энергии по часам"
   ]
  },
  {
   "cell_type": "code",
   "execution_count": 7,
   "metadata": {},
   "outputs": [
    {
     "name": "stdout",
     "output_type": "stream",
     "text": [
      "         Среднее   Медиана\n",
      "hour                      \n",
      "0     239.939537  240.6025\n",
      "1     240.189594  240.9440\n",
      "2     239.802408  242.9915\n",
      "3     243.111480  245.3805\n",
      "4     239.096864  244.3570\n",
      "5     239.756871  245.0390\n",
      "6     238.952998  246.4040\n",
      "7     241.493654  247.0870\n",
      "8     241.759961  239.5790\n",
      "9     235.845879  234.8005\n",
      "10    236.595329  239.5790\n",
      "11    236.123651  241.6260\n",
      "12    231.850966  240.9440\n",
      "13    239.288355  244.6980\n",
      "14    237.070923  242.3090\n",
      "15    235.400445  241.6260\n",
      "16    233.763553  240.9440\n",
      "17    233.413140  239.5790\n",
      "18    237.557504  238.8960\n",
      "19    238.438632  238.2140\n",
      "20    238.716299  236.1660\n",
      "21    238.430894  238.8960\n",
      "22    238.281446  238.8960\n",
      "23    238.687716  239.5790\n"
     ]
    }
   ],
   "source": [
    "energy_0_train_hours = energy_0_train.groupby(\"hour\")\n",
    "energy_0_train_averages = pd.DataFrame(\n",
    "    {\"Среднее\": energy_0_train_hours.mean()[\"meter_reading\"],\n",
    "     \"Медиана\": energy_0_train_hours.median()[\"meter_reading\"]})\n",
    "print (energy_0_train_averages)"
   ]
  },
  {
   "cell_type": "markdown",
   "metadata": {},
   "source": [
    "### Функция проверки модели\n",
    "\\begin{equation}\n",
    "RMSLE = {\\sqrt{\\sum_{i=1}^{n}{(log(p_i+1) - log(a_i+1))^2} \\over n}}.\n",
    "\\end{equation}\n",
    "\n",
    "Для вычисления метрики создадим шесть новых столбцов в тестовом наборе данных: с логарифмом значения метрики, предсказанием по среднему и по медиане, а также с квадратом разницы предсказаний и логарифма значения. Последний столбец добавим, чтобы сравнить предсказание с его отсутствием - нулями в значениях."
   ]
  },
  {
   "cell_type": "code",
   "execution_count": 8,
   "metadata": {},
   "outputs": [
    {
     "name": "stdout",
     "output_type": "stream",
     "text": [
      "          building_id  meter           timestamp  meter_reading  hour  \\\n",
      "9930979             0      0 2016-07-01 14:00:00        255.960    14   \n",
      "18747623            0      0 2016-12-06 01:00:00        182.926     1   \n",
      "9670584             0      0 2016-06-26 23:00:00        237.531    23   \n",
      "17657639            0      0 2016-11-16 06:00:00        176.101     6   \n",
      "14092938            0      0 2016-09-14 00:00:00        245.722     0   \n",
      "\n",
      "          meter_reading_mean_q  meter_reading_median_q  meter_reading_zero_q  \n",
      "9930979               0.005830                0.002980             30.790518  \n",
      "18747623              0.073468                0.075171             27.191360  \n",
      "9670584               0.000023                0.000073             29.970142  \n",
      "17657639              0.092248                0.111758             26.798432  \n",
      "14092938              0.000562                0.000440             30.340952  \n"
     ]
    }
   ],
   "source": [
    "def calculate_model (x):\n",
    "    meter_reading_log = np.log(x.meter_reading + 1)\n",
    "    meter_reading_mean = np.log(energy_0_train_averages[\"Среднее\"][x.hour] + 1)\n",
    "    meter_reading_median = np.log(energy_0_train_averages[\"Медиана\"][x.hour] + 1)\n",
    "    x[\"meter_reading_mean_q\"] = (meter_reading_log - meter_reading_mean)**2\n",
    "    x[\"meter_reading_median_q\"] = (meter_reading_log - meter_reading_median)**2\n",
    "    x[\"meter_reading_zero_q\"] = (meter_reading_log)**2\n",
    "    return x\n",
    "\n",
    "energy_0_test = energy_0_test.apply(calculate_model,\n",
    "                                    axis=1, result_type=\"expand\")\n",
    "print (energy_0_test.head())"
   ]
  },
  {
   "cell_type": "markdown",
   "metadata": {},
   "source": [
    "Теперь остается просуммировать квадраты расхождений, разделить на количество значений и извлечь квадратный корень"
   ]
  },
  {
   "cell_type": "code",
   "execution_count": 9,
   "metadata": {},
   "outputs": [
    {
     "name": "stdout",
     "output_type": "stream",
     "text": [
      "Качество медианы: 0.2539681441823892\n",
      "Качество среднего: 0.25199623814522715\n",
      "Качество нуля: 5.44883382023213\n"
     ]
    }
   ],
   "source": [
    "energy_0_test_median_rmsle = np.sqrt(energy_0_test[\"meter_reading_median_q\"].sum() / len(energy_0_test))\n",
    "energy_0_test_mean_rmsle = np.sqrt(energy_0_test[\"meter_reading_mean_q\"].sum() / len(energy_0_test))\n",
    "energy_0_test_zero_rmsle = np.sqrt(energy_0_test[\"meter_reading_zero_q\"].sum() / len(energy_0_test))\n",
    "print (\"Качество медианы:\", energy_0_test_median_rmsle)\n",
    "print (\"Качество среднего:\", energy_0_test_mean_rmsle)\n",
    "print (\"Качество нуля:\", energy_0_test_zero_rmsle)"
   ]
  },
  {
   "cell_type": "code",
   "execution_count": null,
   "metadata": {},
   "outputs": [],
   "source": []
  }
 ],
 "metadata": {
  "kernelspec": {
   "display_name": "Python 3",
   "language": "python",
   "name": "python3"
  },
  "language_info": {
   "codemirror_mode": {
    "name": "ipython",
    "version": 3
   },
   "file_extension": ".py",
   "mimetype": "text/x-python",
   "name": "python",
   "nbconvert_exporter": "python",
   "pygments_lexer": "ipython3",
   "version": "3.8.10"
  }
 },
 "nbformat": 4,
 "nbformat_minor": 2
}
