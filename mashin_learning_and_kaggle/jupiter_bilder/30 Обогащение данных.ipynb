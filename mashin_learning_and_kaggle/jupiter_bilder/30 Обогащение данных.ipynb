{
 "cells": [
  {
   "cell_type": "markdown",
   "metadata": {},
   "source": [
    "### Постановка задачи\n",
    "Заполним отсутствующие значения по погоде интерполяционными данными.\n",
    "\n",
    "Для точки росы вычтем температуру воздуха, направление ветра разложим на синус и косинус, для температуры воздуха вычислим  первую и вторую производные. Также введем параметры по праздничным дням, дням недели, месяцам и неделям года.\n",
    "\n",
    "Посчитаем модель линейной регрессии по первым 20 зданиям и найдем ее точность. Проверим, какой набор параметров позволяет улучшить точность.\n",
    "\n",
    "## Данные:\n",
    "### Директория где находятся исходные данные \n",
    "/home/al/PycharmProjects/examples_problem_solving_kaggl/mashin_learning_and_kaggle/jupiter_bilder/source_data/<br>\n",
    "\n",
    "### сами данные: \n",
    "train.csv - данные по энергопотреблению <br>\n",
    "\n",
    "building_metadata.csv - данные по зданиям<br>\n",
    "\n",
    "weather_train.csv - данные о погоде <br>\n",
    "\n",
    "\n",
    "## Соревнование:\n",
    "https://www.kaggle.com/c/ashrae-energy-prediction/"
   ]
  },
  {
   "cell_type": "markdown",
   "metadata": {},
   "source": [
    "### Подключение библиотек"
   ]
  },
  {
   "cell_type": "code",
   "execution_count": 1,
   "metadata": {},
   "outputs": [],
   "source": [
    "import pandas as pd\n",
    "from pandas.tseries.holiday import USFederalHolidayCalendar as calendar\n",
    "import numpy as np\n",
    "from scipy.interpolate import interp1d\n",
    "from sklearn.model_selection import train_test_split\n",
    "from sklearn.linear_model import LinearRegression"
   ]
  },
  {
   "cell_type": "markdown",
   "metadata": {},
   "source": [
    "### Загрузка данных, отсечение 20 зданий, объединение и оптимизация"
   ]
  },
  {
   "cell_type": "code",
   "execution_count": 2,
   "metadata": {},
   "outputs": [],
   "source": [
    "def reduce_mem_usage (df):\n",
    "    start_mem = df.memory_usage().sum() / 1024**2    \n",
    "    for col in df.columns:\n",
    "        col_type = df[col].dtypes\n",
    "        if str(col_type)[:5] == \"float\":\n",
    "            c_min = df[col].min()\n",
    "            c_max = df[col].max()\n",
    "            if c_min > np.finfo(\"f2\").min and c_max < np.finfo(\"f2\").max:\n",
    "                df[col] = df[col].astype(np.float16)\n",
    "            elif c_min > np.finfo(\"f4\").min and c_max < np.finfo(\"f4\").max:\n",
    "                df[col] = df[col].astype(np.float32)\n",
    "            else:\n",
    "                df[col] = df[col].astype(np.float64)\n",
    "        elif str(col_type)[:3] == \"int\":\n",
    "            c_min = df[col].min()\n",
    "            c_max = df[col].max()\n",
    "            if c_min > np.iinfo(\"i1\").min and c_max < np.iinfo(\"i1\").max:\n",
    "                df[col] = df[col].astype(np.int8)\n",
    "            elif c_min > np.iinfo(\"i2\").min and c_max < np.iinfo(\"i2\").max:\n",
    "                df[col] = df[col].astype(np.int16)\n",
    "            elif c_min > np.iinfo(\"i4\").min and c_max < np.iinfo(\"i4\").max:\n",
    "                df[col] = df[col].astype(np.int32)\n",
    "            elif c_min > np.iinfo(\"i8\").min and c_max < np.iinfo(\"i8\").max:\n",
    "                df[col] = df[col].astype(np.int64)\n",
    "        elif col == \"timestamp\":\n",
    "            df[col] = pd.to_datetime(df[col])\n",
    "        elif str(col_type)[:8] != \"datetime\":\n",
    "            df[col] = df[col].astype(\"category\")\n",
    "    end_mem = df.memory_usage().sum() / 1024**2\n",
    "    print('Потребление памяти меньше на', round(start_mem - end_mem, 2), 'Мб (минус', round(100 * (start_mem - end_mem) / start_mem, 1), '%)')\n",
    "    return df"
   ]
  },
  {
   "cell_type": "code",
   "execution_count": 3,
   "metadata": {},
   "outputs": [
    {
     "name": "stdout",
     "output_type": "stream",
     "text": [
      "<class 'pandas.core.frame.DataFrame'>\n",
      "Int64Index: 175680 entries, 0 to 175679\n",
      "Data columns (total 9 columns):\n",
      " #   Column         Non-Null Count   Dtype  \n",
      "---  ------         --------------   -----  \n",
      " 0   building_id    175680 non-null  int64  \n",
      " 1   meter          175680 non-null  int64  \n",
      " 2   timestamp      175680 non-null  object \n",
      " 3   meter_reading  175680 non-null  float64\n",
      " 4   site_id        175680 non-null  int64  \n",
      " 5   primary_use    175680 non-null  object \n",
      " 6   square_feet    175680 non-null  int64  \n",
      " 7   year_built     175680 non-null  float64\n",
      " 8   floor_count    0 non-null       float64\n",
      "dtypes: float64(3), int64(4), object(2)\n",
      "memory usage: 13.4+ MB\n",
      "None\n"
     ]
    }
   ],
   "source": [
    "buildings = pd.read_csv(\"http://video.ittensive.com/machine-learning/ashrae/building_metadata.csv.gz\")\n",
    "weather = pd.read_csv(\"http://video.ittensive.com/machine-learning/ashrae/weather_train.csv.gz\")\n",
    "weather = weather[weather[\"site_id\"] == 0]\n",
    "energy = pd.read_csv(\"http://video.ittensive.com/machine-learning/ashrae/train.0.csv.gz\")\n",
    "energy = energy[energy[\"building_id\"]<20]\n",
    "energy = pd.merge(left=energy, right=buildings, how=\"left\",\n",
    "                   left_on=\"building_id\", right_on=\"building_id\")\n",
    "del buildings\n",
    "print (energy.info())"
   ]
  },
  {
   "cell_type": "markdown",
   "metadata": {},
   "source": [
    "### Интерполяция значений"
   ]
  },
  {
   "cell_type": "code",
   "execution_count": 4,
   "metadata": {},
   "outputs": [],
   "source": [
    "weather[\"precip_depth_1_hr\"] = weather[\"precip_depth_1_hr\"].apply(lambda x:x if x>0 else 0)\n",
    "interpolate_columns = [\"air_temperature\", \"dew_temperature\",\n",
    "                       \"cloud_coverage\", \"wind_speed\", \"wind_direction\",\n",
    "                       \"precip_depth_1_hr\", \"sea_level_pressure\"]\n",
    "for col in interpolate_columns:\n",
    "    weather[col] = weather[col].interpolate(limit_direction='both',\n",
    "                            kind='cubic')"
   ]
  },
  {
   "cell_type": "markdown",
   "metadata": {},
   "source": [
    "### Обогащение данных: погода"
   ]
  },
  {
   "cell_type": "code",
   "execution_count": 5,
   "metadata": {},
   "outputs": [],
   "source": [
    "weather[\"wind_direction_rad\"] = weather[\"wind_direction\"] * np.pi/180\n",
    "weather[\"wind_direction_sin\"] = np.sin(weather[\"wind_direction_rad\"])\n",
    "weather[\"wind_direction_cos\"] = np.cos(weather[\"wind_direction_rad\"])\n",
    "weather[\"air_temperature_diff1\"] = weather[\"air_temperature\"].diff()\n",
    "weather.at[0, \"air_temperature_diff1\"] = weather.at[1, \"air_temperature_diff1\"]\n",
    "weather[\"air_temperature_diff2\"] = weather[\"air_temperature_diff1\"].diff()\n",
    "weather.at[0, \"air_temperature_diff2\"] = weather.at[1, \"air_temperature_diff2\"]"
   ]
  },
  {
   "cell_type": "markdown",
   "metadata": {},
   "source": [
    "### Объдинение погодных данных"
   ]
  },
  {
   "cell_type": "code",
   "execution_count": 6,
   "metadata": {},
   "outputs": [
    {
     "name": "stdout",
     "output_type": "stream",
     "text": [
      "Потребление памяти меньше на 15.41 Мб (минус 71.9 %)\n",
      "<class 'pandas.core.frame.DataFrame'>\n",
      "RangeIndex: 175680 entries, 0 to 175679\n",
      "Data columns (total 16 columns):\n",
      " #   Column                 Non-Null Count   Dtype         \n",
      "---  ------                 --------------   -----         \n",
      " 0   timestamp              175680 non-null  datetime64[ns]\n",
      " 1   building_id            175680 non-null  int8          \n",
      " 2   meter_reading          175680 non-null  float16       \n",
      " 3   primary_use            175680 non-null  category      \n",
      " 4   air_temperature        175680 non-null  float16       \n",
      " 5   cloud_coverage         175680 non-null  float16       \n",
      " 6   dew_temperature        175680 non-null  float16       \n",
      " 7   precip_depth_1_hr      175680 non-null  float16       \n",
      " 8   sea_level_pressure     175680 non-null  float16       \n",
      " 9   wind_direction         175680 non-null  float16       \n",
      " 10  wind_speed             175680 non-null  float16       \n",
      " 11  wind_direction_rad     175680 non-null  float16       \n",
      " 12  wind_direction_sin     175680 non-null  float16       \n",
      " 13  wind_direction_cos     175680 non-null  float16       \n",
      " 14  air_temperature_diff1  175680 non-null  float16       \n",
      " 15  air_temperature_diff2  175680 non-null  float16       \n",
      "dtypes: category(1), datetime64[ns](1), float16(13), int8(1)\n",
      "memory usage: 6.0 MB\n",
      "None\n"
     ]
    }
   ],
   "source": [
    "energy = energy.set_index([\"timestamp\", \"site_id\"])\n",
    "weather = weather.set_index([\"timestamp\", \"site_id\"])\n",
    "energy = pd.merge(left=energy, right=weather, how=\"left\",\n",
    "                  left_index=True, right_index=True)\n",
    "energy.reset_index(inplace=True)\n",
    "energy = energy.drop(columns=[\"meter\", \"site_id\", \"year_built\",\n",
    "                              \"square_feet\", \"floor_count\"], axis=1)\n",
    "del weather\n",
    "energy = reduce_mem_usage(energy)\n",
    "print (energy.info())"
   ]
  },
  {
   "cell_type": "markdown",
   "metadata": {},
   "source": [
    "### Обогащение данных: дата"
   ]
  },
  {
   "cell_type": "code",
   "execution_count": 7,
   "metadata": {},
   "outputs": [
    {
     "name": "stderr",
     "output_type": "stream",
     "text": [
      "/tmp/ipykernel_112142/3950203926.py:3: FutureWarning: Series.dt.weekofyear and Series.dt.week have been deprecated.  Please use Series.dt.isocalendar().week instead.\n",
      "  energy[\"week\"] = energy[\"timestamp\"].dt.week.astype(\"int8\")\n"
     ]
    }
   ],
   "source": [
    "energy[\"hour\"] = energy[\"timestamp\"].dt.hour.astype(\"int8\")\n",
    "energy[\"weekday\"] = energy[\"timestamp\"].dt.weekday.astype(\"int8\")\n",
    "energy[\"week\"] = energy[\"timestamp\"].dt.week.astype(\"int8\")\n",
    "energy[\"month\"] = energy[\"timestamp\"].dt.month.astype(\"int8\")\n",
    "energy[\"date\"] = pd.to_datetime(energy[\"timestamp\"].dt.date)\n",
    "dates_range = pd.date_range(start='2015-12-31', end='2017-01-01')\n",
    "us_holidays = calendar().holidays(start=dates_range.min(),\n",
    "                                  end=dates_range.max())\n",
    "energy['is_holiday'] = energy['date'].isin(us_holidays).astype(\"int8\")\n",
    "for weekday in range(0,7):\n",
    "    energy['is_wday' + str(weekday)] = energy['weekday'].isin([weekday]).astype(\"int8\")\n",
    "for week in range(1,54):\n",
    "    energy['is_w' + str(week)] = energy['week'].isin([week]).astype(\"int8\")\n",
    "for month in range(1,13):\n",
    "    energy['is_m' + str(month)] = energy['month'].isin([month]).astype(\"int8\")"
   ]
  },
  {
   "cell_type": "markdown",
   "metadata": {},
   "source": [
    "### Логарифмирование данных\n",
    "z = A * x + B * y -> log z = A * x + B * y => z = e^Ax * e^By => z = a^x * b^y"
   ]
  },
  {
   "cell_type": "code",
   "execution_count": 8,
   "metadata": {},
   "outputs": [],
   "source": [
    "energy[\"meter_reading_log\"] = np.log(energy[\"meter_reading\"] + 1)"
   ]
  },
  {
   "cell_type": "markdown",
   "metadata": {},
   "source": [
    "### Разделение данных"
   ]
  },
  {
   "cell_type": "code",
   "execution_count": 9,
   "metadata": {},
   "outputs": [
    {
     "name": "stdout",
     "output_type": "stream",
     "text": [
      "<class 'pandas.core.frame.DataFrame'>\n",
      "Int64Index: 86858 entries, 77099 to 154425\n",
      "Data columns (total 95 columns):\n",
      " #   Column                 Non-Null Count  Dtype         \n",
      "---  ------                 --------------  -----         \n",
      " 0   timestamp              86858 non-null  datetime64[ns]\n",
      " 1   building_id            86858 non-null  int8          \n",
      " 2   meter_reading          86858 non-null  float16       \n",
      " 3   primary_use            86858 non-null  category      \n",
      " 4   air_temperature        86858 non-null  float16       \n",
      " 5   cloud_coverage         86858 non-null  float16       \n",
      " 6   dew_temperature        86858 non-null  float16       \n",
      " 7   precip_depth_1_hr      86858 non-null  float16       \n",
      " 8   sea_level_pressure     86858 non-null  float16       \n",
      " 9   wind_direction         86858 non-null  float16       \n",
      " 10  wind_speed             86858 non-null  float16       \n",
      " 11  wind_direction_rad     86858 non-null  float16       \n",
      " 12  wind_direction_sin     86858 non-null  float16       \n",
      " 13  wind_direction_cos     86858 non-null  float16       \n",
      " 14  air_temperature_diff1  86858 non-null  float16       \n",
      " 15  air_temperature_diff2  86858 non-null  float16       \n",
      " 16  hour                   86858 non-null  int8          \n",
      " 17  weekday                86858 non-null  int8          \n",
      " 18  week                   86858 non-null  int8          \n",
      " 19  month                  86858 non-null  int8          \n",
      " 20  date                   86858 non-null  datetime64[ns]\n",
      " 21  is_holiday             86858 non-null  int8          \n",
      " 22  is_wday0               86858 non-null  int8          \n",
      " 23  is_wday1               86858 non-null  int8          \n",
      " 24  is_wday2               86858 non-null  int8          \n",
      " 25  is_wday3               86858 non-null  int8          \n",
      " 26  is_wday4               86858 non-null  int8          \n",
      " 27  is_wday5               86858 non-null  int8          \n",
      " 28  is_wday6               86858 non-null  int8          \n",
      " 29  is_w1                  86858 non-null  int8          \n",
      " 30  is_w2                  86858 non-null  int8          \n",
      " 31  is_w3                  86858 non-null  int8          \n",
      " 32  is_w4                  86858 non-null  int8          \n",
      " 33  is_w5                  86858 non-null  int8          \n",
      " 34  is_w6                  86858 non-null  int8          \n",
      " 35  is_w7                  86858 non-null  int8          \n",
      " 36  is_w8                  86858 non-null  int8          \n",
      " 37  is_w9                  86858 non-null  int8          \n",
      " 38  is_w10                 86858 non-null  int8          \n",
      " 39  is_w11                 86858 non-null  int8          \n",
      " 40  is_w12                 86858 non-null  int8          \n",
      " 41  is_w13                 86858 non-null  int8          \n",
      " 42  is_w14                 86858 non-null  int8          \n",
      " 43  is_w15                 86858 non-null  int8          \n",
      " 44  is_w16                 86858 non-null  int8          \n",
      " 45  is_w17                 86858 non-null  int8          \n",
      " 46  is_w18                 86858 non-null  int8          \n",
      " 47  is_w19                 86858 non-null  int8          \n",
      " 48  is_w20                 86858 non-null  int8          \n",
      " 49  is_w21                 86858 non-null  int8          \n",
      " 50  is_w22                 86858 non-null  int8          \n",
      " 51  is_w23                 86858 non-null  int8          \n",
      " 52  is_w24                 86858 non-null  int8          \n",
      " 53  is_w25                 86858 non-null  int8          \n",
      " 54  is_w26                 86858 non-null  int8          \n",
      " 55  is_w27                 86858 non-null  int8          \n",
      " 56  is_w28                 86858 non-null  int8          \n",
      " 57  is_w29                 86858 non-null  int8          \n",
      " 58  is_w30                 86858 non-null  int8          \n",
      " 59  is_w31                 86858 non-null  int8          \n",
      " 60  is_w32                 86858 non-null  int8          \n",
      " 61  is_w33                 86858 non-null  int8          \n",
      " 62  is_w34                 86858 non-null  int8          \n",
      " 63  is_w35                 86858 non-null  int8          \n",
      " 64  is_w36                 86858 non-null  int8          \n",
      " 65  is_w37                 86858 non-null  int8          \n",
      " 66  is_w38                 86858 non-null  int8          \n",
      " 67  is_w39                 86858 non-null  int8          \n",
      " 68  is_w40                 86858 non-null  int8          \n",
      " 69  is_w41                 86858 non-null  int8          \n",
      " 70  is_w42                 86858 non-null  int8          \n",
      " 71  is_w43                 86858 non-null  int8          \n",
      " 72  is_w44                 86858 non-null  int8          \n",
      " 73  is_w45                 86858 non-null  int8          \n",
      " 74  is_w46                 86858 non-null  int8          \n",
      " 75  is_w47                 86858 non-null  int8          \n",
      " 76  is_w48                 86858 non-null  int8          \n",
      " 77  is_w49                 86858 non-null  int8          \n",
      " 78  is_w50                 86858 non-null  int8          \n",
      " 79  is_w51                 86858 non-null  int8          \n",
      " 80  is_w52                 86858 non-null  int8          \n",
      " 81  is_w53                 86858 non-null  int8          \n",
      " 82  is_m1                  86858 non-null  int8          \n",
      " 83  is_m2                  86858 non-null  int8          \n",
      " 84  is_m3                  86858 non-null  int8          \n",
      " 85  is_m4                  86858 non-null  int8          \n",
      " 86  is_m5                  86858 non-null  int8          \n",
      " 87  is_m6                  86858 non-null  int8          \n",
      " 88  is_m7                  86858 non-null  int8          \n",
      " 89  is_m8                  86858 non-null  int8          \n",
      " 90  is_m9                  86858 non-null  int8          \n",
      " 91  is_m10                 86858 non-null  int8          \n",
      " 92  is_m11                 86858 non-null  int8          \n",
      " 93  is_m12                 86858 non-null  int8          \n",
      " 94  meter_reading_log      86858 non-null  float16       \n",
      "dtypes: category(1), datetime64[ns](2), float16(14), int8(78)\n",
      "memory usage: 10.9 MB\n",
      "None\n"
     ]
    }
   ],
   "source": [
    "energy_train, energy_test = train_test_split(energy[energy[\"meter_reading\"]>0], test_size=0.2)\n",
    "print (energy_train.info())"
   ]
  },
  {
   "cell_type": "markdown",
   "metadata": {},
   "source": [
    "### Линейная регрессия"
   ]
  },
  {
   "cell_type": "code",
   "execution_count": 11,
   "metadata": {},
   "outputs": [],
   "source": [
    "hours = range(0, 24)\n",
    "buildings = range(0, energy_train[\"building_id\"].max() + 1)\n",
    "lr_columns = [\"meter_reading_log\", \"hour\", \"building_id\",\n",
    "             \"air_temperature\", \"dew_temperature\",\n",
    "             \"sea_level_pressure\", \"wind_speed\", \"cloud_coverage\",\n",
    "             \"air_temperature_diff1\", \"air_temperature_diff2\",\n",
    "             \"is_holiday\"]\n",
    "for wday in range(0,7):\n",
    "    lr_columns.append(\"is_wday\" + str(wday))\n",
    "for week in range(1,54):\n",
    "    lr_columns.append(\"is_w\" + str(week))\n",
    "for month in range(1,13):\n",
    "    lr_columns.append(\"is_m\" + str(month))\n",
    "energy_train_lr = pd.DataFrame(energy_train, columns=lr_columns)\n",
    "energy_lr = [[]]*len(buildings)\n",
    "for building in buildings:\n",
    "    energy_lr[building] = [[]]*len(hours)\n",
    "    energy_train_b = energy_train_lr[energy_train_lr[\"building_id\"]==building]\n",
    "    for hour in hours:\n",
    "        energy_train_bh = energy_train_b[energy_train_b[\"hour\"]==hour]\n",
    "        y = energy_train_bh[\"meter_reading_log\"]\n",
    "        x = energy_train_bh.drop(labels=[\"meter_reading_log\",\n",
    "            \"hour\", \"building_id\"], axis=1)\n",
    "        model = LinearRegression(fit_intercept=False).fit(x, y)\n",
    "        energy_lr[building][hour] = model.coef_\n",
    "        energy_lr[building][hour] = np.append(energy_lr[building][hour], model.intercept_)\n",
    "#print (energy_lr[0])"
   ]
  },
  {
   "cell_type": "markdown",
   "metadata": {},
   "source": [
    "### Расчет качества"
   ]
  },
  {
   "cell_type": "code",
   "execution_count": 12,
   "metadata": {},
   "outputs": [
    {
     "name": "stdout",
     "output_type": "stream",
     "text": [
      "Качество линейной регрессии, 20 зданий: 0.20274983544523917 0.2\n"
     ]
    }
   ],
   "source": [
    "def calculate_model (x):\n",
    "    lr = -1\n",
    "    model = energy_lr[x.building_id][x.hour]\n",
    "    if len(model) > 0:\n",
    "        lr = np.sum([x[col] * model[i] for i,col in enumerate(lr_columns[3:])])\n",
    "        lr += model[len(lr_columns)-3]\n",
    "        lr = np.exp(lr)\n",
    "    if lr < 0:\n",
    "        lr = 0\n",
    "    x[\"meter_reading_lr_q\"] = (np.log(x.meter_reading + 1) -\n",
    "                               np.log(1 + lr))**2\n",
    "    return x\n",
    "\n",
    "energy_test = energy_test.apply(calculate_model,\n",
    "                                    axis=1, result_type=\"expand\")\n",
    "energy_test_lr_rmsle = np.sqrt(energy_test[\"meter_reading_lr_q\"].sum() / len(energy_test))\n",
    "print (\"Качество линейной регрессии, 20 зданий:\",\n",
    "       energy_test_lr_rmsle, round(energy_test_lr_rmsle, 1))"
   ]
  },
  {
   "cell_type": "code",
   "execution_count": null,
   "metadata": {},
   "outputs": [],
   "source": []
  }
 ],
 "metadata": {
  "kernelspec": {
   "display_name": "Python 3 (ipykernel)",
   "language": "python",
   "name": "python3"
  },
  "language_info": {
   "codemirror_mode": {
    "name": "ipython",
    "version": 3
   },
   "file_extension": ".py",
   "mimetype": "text/x-python",
   "name": "python",
   "nbconvert_exporter": "python",
   "pygments_lexer": "ipython3",
   "version": "3.8.10"
  }
 },
 "nbformat": 4,
 "nbformat_minor": 4
}
