{
 "cells": [
  {
   "cell_type": "markdown",
   "metadata": {},
   "source": [
    "# Постановка задачи\n",
    "\n",
    "* Всего 3 набора данных: (1) building_metadata, (2) train и (3) weather_train\n",
    "(1) содержит building_id, для которого есть данные (2)\n",
    "(1) содержит site_id, для которого есть данные (3)\n",
    "\n",
    "Нужно объединить все наборы данных по  building_id, site_id и timestamp\n",
    "\n",
    "ETL = получение + очистка + совмещение данных\n",
    "\n",
    "## Данные \n",
    "\n",
    "* /home/al/PycharmProjects/mashine_learn_Kagle/jupiter_bilder/building_metadata.csv\n",
    "* /home/al/PycharmProjects/mashine_learn_Kagle/jupiter_bilder/weather_train.csv\n",
    "* /home/al/PycharmProjects/mashine_learn_Kagle/jupiter_bilder/train.csv\n",
    "\n",
    "## Подключение библиотек"
   ]
  },
  {
   "cell_type": "code",
   "execution_count": 2,
   "metadata": {},
   "outputs": [],
   "source": [
    "%matplotlib inline\n",
    "import pandas as pd\n",
    "import matplotlib.pyplot as plt\n",
    "from matplotlib.pyplot import rcParams\n",
    "rcParams['figure.figsize'] = 16,8"
   ]
  },
  {
   "cell_type": "markdown",
   "metadata": {},
   "source": [
    "### Загрузка данных: здания\n",
    "\n",
    "* primary_use - назначение\n",
    "* square_feet - площадь, кв.футы\n",
    "* year_built - год постройки\n",
    "* floor_count - число этажей\n"
   ]
  },
  {
   "cell_type": "code",
   "execution_count": 3,
   "metadata": {},
   "outputs": [
    {
     "name": "stdout",
     "output_type": "stream",
     "text": [
      "   site_id  building_id primary_use  square_feet  year_built  floor_count\n",
      "0        0            0   Education         7432      2008.0          NaN\n",
      "1        0            1   Education         2720      2004.0          NaN\n",
      "2        0            2   Education         5376      1991.0          NaN\n",
      "3        0            3   Education        23685      2002.0          NaN\n",
      "4        0            4   Education       116607      1975.0          NaN\n"
     ]
    }
   ],
   "source": [
    "buildings = pd.read_csv(\"/home/al/PycharmProjects/mashine_learn_Kagle/jupiter_bilder/building_metadata.csv\")\n",
    "print(buildings.head())"
   ]
  },
  {
   "cell_type": "markdown",
   "metadata": {},
   "source": [
    "## Загрузка данны: погода\n",
    "\n",
    "* air_temprature - температура воздуха, С\n",
    "* dew_temperature - точка рсы (влажность), С\n",
    "* cloud_coverage - облачность, %\n",
    "* precip_depth_1_hr - количество осадков, мм/час\n",
    "* sea_level_pressure - давление, мбар\n",
    "* wind_direction - направление ветра, градусы\n",
    "* wind_speed - скорость ветра, м/с"
   ]
  }
 ],
 "metadata": {
  "kernelspec": {
   "display_name": "Python 3",
   "language": "python",
   "name": "python3"
  },
  "language_info": {
   "codemirror_mode": {
    "name": "ipython",
    "version": 3
   },
   "file_extension": ".py",
   "mimetype": "text/x-python",
   "name": "python",
   "nbconvert_exporter": "python",
   "pygments_lexer": "ipython3",
   "version": "3.8.5"
  }
 },
 "nbformat": 4,
 "nbformat_minor": 4
}
