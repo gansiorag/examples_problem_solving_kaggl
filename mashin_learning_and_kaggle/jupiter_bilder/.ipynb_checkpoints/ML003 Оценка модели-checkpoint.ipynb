{
 "cells": [
  {
   "cell_type": "markdown",
   "metadata": {},
   "source": [
    "### Постановка задачи\n",
    "Построить простую модель энергопотребления здания по среднему значению, \n",
    "оценить эффективность модели через метрику\n",
    "\\begin{equation}\n",
    "RMSLE = {\\sqrt{\\sum_{i=1}^{n}{(log(p_i+1) - log(a_i+1))^2} \\over n}}.\n",
    "\\end{equation}\n",
    "* n - число наблюдений\n",
    "* log - натуральный логарифм\n",
    "* p_i - вычисленное значение метрики\n",
    "* a_i - заданное значение метрики\n",
    "\n",
    "Данные: http://video.ittensive.com/machine-learning/ashrae/train.0.0.csv.gz\n",
    "Соревнование: https://www.kaggle.com/c/ashrae-energy-prediction/\n",
    "\n",
    "© ITtensive, 2020"
   ]
  },
  {
   "cell_type": "markdown",
   "metadata": {},
   "source": [
    "### Загрузка библиотек"
   ]
  },
  {
   "cell_type": "code",
   "execution_count": 1,
   "metadata": {},
   "outputs": [],
   "source": [
    "%matplotlib inline\n",
    "import numpy as np\n",
    "import pandas as pd\n",
    "from sklearn.model_selection import train_test_split\n",
    "import matplotlib.pyplot as plt\n",
    "from matplotlib.pyplot import rcParams\n",
    "rcParams['figure.figsize'] = 16, 8"
   ]
  },
  {
   "cell_type": "markdown",
   "metadata": {},
   "source": [
    "### Загрузка данных\n",
    "Дополнительно сразу отсечем пустые дни и выделим час из значения времени"
   ]
  },
  {
   "cell_type": "code",
   "execution_count": 2,
   "metadata": {},
   "outputs": [
    {
     "name": "stdout",
     "output_type": "stream",
     "text": [
      "     building_id  meter  timestamp  meter_reading  hour\n",
      "45            46      0 2016-01-01        53.2397     0\n",
      "72            74      0 2016-01-01        43.0013     0\n",
      "91            93      0 2016-01-01        52.4206     0\n",
      "103          105      0 2016-01-01        23.3036     0\n",
      "104          106      0 2016-01-01         0.3746     0\n"
     ]
    }
   ],
   "source": [
    "energy_0 = pd.read_csv(\"/home/al/PycharmProjects/mashine_learn_Kagle/jupiter_bilder/train.csv\")\n",
    "energy_0 = energy_0[energy_0[\"meter_reading\"] > 0]\n",
    "energy_0[\"timestamp\"] = pd.to_datetime(energy_0[\"timestamp\"])\n",
    "energy_0[\"hour\"] = energy_0[\"timestamp\"].dt.hour\n",
    "print (energy_0.head())"
   ]
  },
  {
   "cell_type": "markdown",
   "metadata": {},
   "source": [
    "### Разделение данных на обучение и проверку\n",
    "Выделим 20% всех данных на проверку, остальные оставим на обучение"
   ]
  },
  {
   "cell_type": "code",
   "execution_count": 67,
   "metadata": {},
   "outputs": [
    {
     "name": "stdout",
     "output_type": "stream",
     "text": [
      "      building_id  meter           timestamp  meter_reading  hour\n",
      "7193            0      0 2016-10-26 17:00:00        183.609    17\n",
      "5842            0      0 2016-08-31 10:00:00        241.626    10\n",
      "4081            0      0 2016-06-19 01:00:00        254.595     1\n",
      "3997            0      0 2016-06-15 13:00:00        299.644    13\n",
      "7140            0      0 2016-10-24 12:00:00        273.024    12\n"
     ]
    }
   ],
   "source": [
    "energy_0_train, energy_0_test = train_test_split(energy_0, test_size=0.2)\n",
    "print (energy_0_train.head())"
   ]
  },
  {
   "cell_type": "markdown",
   "metadata": {},
   "source": [
    "### Создадим модели\n",
    "Среднее и медианное значение потребление энергии по часам"
   ]
  },
  {
   "cell_type": "code",
   "execution_count": 68,
   "metadata": {},
   "outputs": [
    {
     "name": "stdout",
     "output_type": "stream",
     "text": [
      "         Среднее   Медиана\n",
      "hour                      \n",
      "0     238.141292  240.2610\n",
      "1     237.492207  240.2610\n",
      "2     239.963320  242.3090\n",
      "3     238.892307  244.3570\n",
      "4     236.675818  244.3570\n",
      "5     240.579716  245.7220\n",
      "6     236.355284  242.3090\n",
      "7     241.121046  247.0870\n",
      "8     242.814911  239.2375\n",
      "9     235.611241  235.4830\n",
      "10    237.642876  239.5790\n",
      "11    234.733561  241.6260\n",
      "12    235.568616  242.3090\n",
      "13    236.679616  244.3570\n",
      "14    236.369121  242.9915\n",
      "15    238.101027  243.3325\n",
      "16    236.741289  242.9910\n",
      "17    233.032625  239.5790\n",
      "18    235.582897  239.5790\n",
      "19    237.350518  237.5310\n",
      "20    236.394606  236.8480\n",
      "21    239.661546  238.8960\n",
      "22    238.209773  237.5310\n",
      "23    237.832567  239.2375\n"
     ]
    }
   ],
   "source": [
    "energy_0_train_hours = energy_0_train.groupby(\"hour\")\n",
    "energy_0_train_averages = pd.DataFrame(\n",
    "    {\"Среднее\": energy_0_train_hours.mean()[\"meter_reading\"],\n",
    "     \"Медиана\": energy_0_train_hours.median()[\"meter_reading\"]})\n",
    "print (energy_0_train_averages)"
   ]
  },
  {
   "cell_type": "markdown",
   "metadata": {},
   "source": [
    "### Функция проверки модели\n",
    "\\begin{equation}\n",
    "RMSLE = {\\sqrt{\\sum_{i=1}^{n}{(log(p_i+1) - log(a_i+1))^2} \\over n}}.\n",
    "\\end{equation}\n",
    "\n",
    "Для вычисления метрики создадим шесть новых столбцов в тестовом наборе данных: с логарифмом значения метрики, предсказанием по среднему и по медиане, а также с квадратом разницы предсказаний и логарифма значения. Последний столбец добавим, чтобы сравнить предсказание с его отсутствием - нулями в значениях."
   ]
  },
  {
   "cell_type": "code",
   "execution_count": 71,
   "metadata": {},
   "outputs": [
    {
     "name": "stdout",
     "output_type": "stream",
     "text": [
      "      building_id  meter           timestamp  meter_reading  hour  \\\n",
      "5238            0      0 2016-08-06 06:00:00        258.008     6   \n",
      "5460            0      0 2016-08-15 12:00:00        312.613    12   \n",
      "4714            0      0 2016-07-15 10:00:00        303.739    10   \n",
      "4022            0      0 2016-06-16 14:00:00        301.009    14   \n",
      "3511            0      0 2016-05-26 07:00:00        202.038     7   \n",
      "\n",
      "      meter_reading_log  meter_reading_mean  meter_reading_median  \\\n",
      "5238           5.556859            5.469558              5.494332   \n",
      "5460           5.748160            5.466238              5.494332   \n",
      "4714           5.719456            5.474968              5.483049   \n",
      "4022           5.710457            5.469616              5.497133   \n",
      "3511           5.313393            5.489438              5.513779   \n",
      "\n",
      "      meter_reading_mean_q  meter_reading_median_q  meter_reading_zero_q  \n",
      "5238              0.007621                0.003910             30.878681  \n",
      "5460              0.079480                0.064428             33.041340  \n",
      "4714              0.059774                0.055888             32.712173  \n",
      "4022              0.058004                0.045507             32.609317  \n",
      "3511              0.030992                0.040155             28.232147  \n"
     ]
    }
   ],
   "source": [
    "def calculate_model (x):\n",
    "    meter_reading_log = np.log(x.meter_reading + 1)\n",
    "    meter_reading_mean = np.log(energy_0_train_averages[\"Среднее\"][x.hour] + 1)\n",
    "    meter_reading_median = np.log(energy_0_train_averages[\"Медиана\"][x.hour] + 1)\n",
    "    x[\"meter_reading_mean_q\"] = (meter_reading_log - meter_reading_mean)**2\n",
    "    x[\"meter_reading_median_q\"] = (meter_reading_log - meter_reading_median)**2\n",
    "    x[\"meter_reading_zero_q\"] = (meter_reading_log)**2\n",
    "    return x\n",
    "\n",
    "energy_0_test = energy_0_test.apply(calculate_model,\n",
    "                                    axis=1, result_type=\"expand\")\n",
    "print (energy_0_test.head())"
   ]
  },
  {
   "cell_type": "markdown",
   "metadata": {},
   "source": [
    "Теперь остается просуммировать квадраты расхождений, разделить на количество значений и извлечь квадратный корень"
   ]
  },
  {
   "cell_type": "code",
   "execution_count": 72,
   "metadata": {},
   "outputs": [
    {
     "name": "stdout",
     "output_type": "stream",
     "text": [
      "Качество медианы: 0.2541178189989124\n",
      "Качество среднего: 0.2524486012205327\n",
      "Качество нуля: 5.457644152335483\n"
     ]
    }
   ],
   "source": [
    "energy_0_test_median_rmsle = np.sqrt(energy_0_test[\"meter_reading_median_q\"].sum() / len(energy_0_test))\n",
    "energy_0_test_mean_rmsle = np.sqrt(energy_0_test[\"meter_reading_mean_q\"].sum() / len(energy_0_test))\n",
    "energy_0_test_zero_rmsle = np.sqrt(energy_0_test[\"meter_reading_zero_q\"].sum() / len(energy_0_test))\n",
    "print (\"Качество медианы:\", energy_0_test_median_rmsle)\n",
    "print (\"Качество среднего:\", energy_0_test_mean_rmsle)\n",
    "print (\"Качество нуля:\", energy_0_test_zero_rmsle)"
   ]
  }
 ],
 "metadata": {
  "kernelspec": {
   "display_name": "Python 3",
   "language": "python",
   "name": "python3"
  },
  "language_info": {
   "codemirror_mode": {
    "name": "ipython",
    "version": 3
   },
   "file_extension": ".py",
   "mimetype": "text/x-python",
   "name": "python",
   "nbconvert_exporter": "python",
   "pygments_lexer": "ipython3",
   "version": "3.8.5"
  }
 },
 "nbformat": 4,
 "nbformat_minor": 2
}
