{
 "cells": [
  {
   "cell_type": "markdown",
   "metadata": {},
   "source": [
    "### Постановка задачи\n",
    "Построить простую модель энергопотребления здания по среднему значению, \n",
    "оценить эффективность модели через метрику\n",
    "\\begin{equation}\n",
    "RMSLE = {\\sqrt{\\sum_{i=1}^{n}{(log(p_i+1) - log(a_i+1))^2} \\over n}}.\n",
    "\\end{equation}\n",
    "* n - число наблюдений\n",
    "* log - натуральный логарифм\n",
    "* p_i - вычисленное значение метрики\n",
    "* a_i - заданное значение метрики\n",
    "\n",
    "Данные: http://video.ittensive.com/machine-learning/ashrae/train.0.0.csv.gz\n",
    "Соревнование: https://www.kaggle.com/c/ashrae-energy-prediction/\n",
    "\n",
    "© ITtensive, 2020"
   ]
  },
  {
   "cell_type": "markdown",
   "metadata": {},
   "source": [
    "### Загрузка библиотек"
   ]
  },
  {
   "cell_type": "code",
   "execution_count": 6,
   "metadata": {},
   "outputs": [],
   "source": [
    "%matplotlib inline\n",
    "import numpy as np\n",
    "import pandas as pd\n",
    "from sklearn.model_selection import train_test_split\n",
    "import matplotlib.pyplot as plt\n",
    "from matplotlib.pyplot import rcParams\n",
    "rcParams['figure.figsize'] = 16, 8"
   ]
  },
  {
   "cell_type": "markdown",
   "metadata": {},
   "source": [
    "### Загрузка данных\n",
    "Дополнительно сразу отсечем пустые дни и выделим час из значения времени"
   ]
  },
  {
   "cell_type": "code",
   "execution_count": 7,
   "metadata": {},
   "outputs": [
    {
     "name": "stdout",
     "output_type": "stream",
     "text": [
      "     building_id  meter  timestamp  meter_reading  hour\n",
      "45            46      0 2016-01-01        53.2397     0\n",
      "72            74      0 2016-01-01        43.0013     0\n",
      "91            93      0 2016-01-01        52.4206     0\n",
      "103          105      0 2016-01-01        23.3036     0\n",
      "104          106      0 2016-01-01         0.3746     0\n"
     ]
    }
   ],
   "source": [
    "energy_0 = pd.read_csv(\"/home/al/PycharmProjects/mashine_learn_Kagle/jupiter_bilder/train.csv\")\n",
    "energy_0 = energy_0[energy_0[\"meter_reading\"] > 0]\n",
    "energy_0[\"timestamp\"] = pd.to_datetime(energy_0[\"timestamp\"])\n",
    "energy_0[\"hour\"] = energy_0[\"timestamp\"].dt.hour\n",
    "print (energy_0.head())"
   ]
  },
  {
   "cell_type": "markdown",
   "metadata": {},
   "source": [
    "### Разделение данных на обучение и проверку\n",
    "Выделим 20% всех данных на проверку, остальные оставим на обучение"
   ]
  },
  {
   "cell_type": "code",
   "execution_count": 8,
   "metadata": {},
   "outputs": [
    {
     "name": "stdout",
     "output_type": "stream",
     "text": [
      "          building_id  meter           timestamp  meter_reading  hour\n",
      "19835885          116      0 2016-12-25 07:00:00        144.000     7\n",
      "11829356         1185      2 2016-08-04 10:00:00        812.500    10\n",
      "8756737           777      1 2016-06-10 17:00:00        100.127    17\n",
      "16387929         1317      1 2016-10-24 14:00:00       1452.990    14\n",
      "19919267          716      0 2016-12-26 18:00:00          9.900    18\n"
     ]
    }
   ],
   "source": [
    "energy_0_train, energy_0_test = train_test_split(energy_0, test_size=0.2)\n",
    "print (energy_0_train.head())"
   ]
  },
  {
   "cell_type": "markdown",
   "metadata": {},
   "source": [
    "### Создадим модели\n",
    "Среднее и медианное значение потребление энергии по часам"
   ]
  },
  {
   "cell_type": "code",
   "execution_count": 9,
   "metadata": {},
   "outputs": [
    {
     "name": "stdout",
     "output_type": "stream",
     "text": [
      "          Среднее   Медиана\n",
      "hour                       \n",
      "0     2241.368422   81.5200\n",
      "1     2245.546258   80.0000\n",
      "2     2237.870372   78.0500\n",
      "3     2285.333421   77.3024\n",
      "4     2187.430309   76.2805\n",
      "5     2024.684557   79.2200\n",
      "6     2113.714209   84.9906\n",
      "7     2166.160702   93.7750\n",
      "8     2201.993157  100.3540\n",
      "9     2269.085179  106.1110\n",
      "10    2291.415965  110.8080\n",
      "11    2483.031883  113.9505\n",
      "12    2207.211056  115.8805\n",
      "13    2401.731138  116.4430\n",
      "14    2315.566622  116.7080\n",
      "15    2518.925509  116.2000\n",
      "16    2557.015151  114.6700\n",
      "17    2400.728043  111.2000\n",
      "18    2458.121413  107.6715\n",
      "19    2606.535105  103.7000\n",
      "20    2384.413578  100.6500\n",
      "21    2602.572479   96.2750\n",
      "22    2447.432522   90.0705\n",
      "23    2175.267971   84.9900\n"
     ]
    }
   ],
   "source": [
    "energy_0_train_hours = energy_0_train.groupby(\"hour\")\n",
    "energy_0_train_averages = pd.DataFrame(\n",
    "    {\"Среднее\": energy_0_train_hours.mean()[\"meter_reading\"],\n",
    "     \"Медиана\": energy_0_train_hours.median()[\"meter_reading\"]})\n",
    "print (energy_0_train_averages)"
   ]
  },
  {
   "cell_type": "markdown",
   "metadata": {},
   "source": [
    "### Функция проверки модели\n",
    "\\begin{equation}\n",
    "RMSLE = {\\sqrt{\\sum_{i=1}^{n}{(log(p_i+1) - log(a_i+1))^2} \\over n}}.\n",
    "\\end{equation}\n",
    "\n",
    "Для вычисления метрики создадим шесть новых столбцов в тестовом наборе данных: с логарифмом значения метрики, предсказанием по среднему и по медиане, а также с квадратом разницы предсказаний и логарифма значения. Последний столбец добавим, чтобы сравнить предсказание с его отсутствием - нулями в значениях."
   ]
  },
  {
   "cell_type": "code",
   "execution_count": null,
   "metadata": {},
   "outputs": [],
   "source": [
    "def calculate_model (x):\n",
    "    meter_reading_log = np.log(x.meter_reading + 1)\n",
    "    meter_reading_mean = np.log(energy_0_train_averages[\"Среднее\"][x.hour] + 1)\n",
    "    meter_reading_median = np.log(energy_0_train_averages[\"Медиана\"][x.hour] + 1)\n",
    "    x[\"meter_reading_mean_q\"] = (meter_reading_log - meter_reading_mean)**2\n",
    "    x[\"meter_reading_median_q\"] = (meter_reading_log - meter_reading_median)**2\n",
    "    x[\"meter_reading_zero_q\"] = (meter_reading_log)**2\n",
    "    return x\n",
    "\n",
    "energy_0_test = energy_0_test.apply(calculate_model,\n",
    "                                    axis=1, result_type=\"expand\")\n",
    "print (energy_0_test.head())"
   ]
  },
  {
   "cell_type": "markdown",
   "metadata": {},
   "source": [
    "Теперь остается просуммировать квадраты расхождений, разделить на количество значений и извлечь квадратный корень"
   ]
  },
  {
   "cell_type": "code",
   "execution_count": null,
   "metadata": {},
   "outputs": [],
   "source": [
    "energy_0_test_median_rmsle = np.sqrt(energy_0_test[\"meter_reading_median_q\"].sum() / len(energy_0_test))\n",
    "energy_0_test_mean_rmsle = np.sqrt(energy_0_test[\"meter_reading_mean_q\"].sum() / len(energy_0_test))\n",
    "energy_0_test_zero_rmsle = np.sqrt(energy_0_test[\"meter_reading_zero_q\"].sum() / len(energy_0_test))\n",
    "print (\"Качество медианы:\", energy_0_test_median_rmsle)\n",
    "print (\"Качество среднего:\", energy_0_test_mean_rmsle)\n",
    "print (\"Качество нуля:\", energy_0_test_zero_rmsle)"
   ]
  },
  {
   "cell_type": "code",
   "execution_count": null,
   "metadata": {},
   "outputs": [],
   "source": []
  }
 ],
 "metadata": {
  "kernelspec": {
   "display_name": "Python 3",
   "language": "python",
   "name": "python3"
  },
  "language_info": {
   "codemirror_mode": {
    "name": "ipython",
    "version": 3
   },
   "file_extension": ".py",
   "mimetype": "text/x-python",
   "name": "python",
   "nbconvert_exporter": "python",
   "pygments_lexer": "ipython3",
   "version": "3.8.5"
  }
 },
 "nbformat": 4,
 "nbformat_minor": 2
}
